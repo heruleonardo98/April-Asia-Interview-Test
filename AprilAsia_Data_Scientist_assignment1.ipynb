{
  "nbformat": 4,
  "nbformat_minor": 0,
  "metadata": {
    "colab": {
      "name": "AprilAsia-Data Scientist assignment1.ipynb",
      "provenance": [],
      "collapsed_sections": []
    },
    "kernelspec": {
      "name": "python3",
      "display_name": "Python 3"
    },
    "language_info": {
      "name": "python"
    }
  },
  "cells": [
    {
      "cell_type": "markdown",
      "metadata": {
        "id": "ylKXMz114JlK"
      },
      "source": [
        "Name : Heru Leonardo"
      ]
    },
    {
      "cell_type": "markdown",
      "metadata": {
        "id": "ksFmeCoN3gVR"
      },
      "source": [
        "**A descriptive analysis of the additives (columns named as “a” to “i”), which must include \n",
        "summaries of findings (parametric/non-parametric). Correlation and ANOVA, if applicable, is \n",
        "a must.**"
      ]
    },
    {
      "cell_type": "code",
      "metadata": {
        "id": "FWYqRIimBx-B"
      },
      "source": [
        "#main driver\n",
        "import tensorflow as tf\n",
        "from tensorflow.keras.optimizers import RMSprop\n",
        "from tensorflow.keras.preprocessing.image import ImageDataGenerator\n",
        "from sklearn.model_selection import train_test_split\n",
        "import zipfile,os,shutil\n",
        "from google.colab import drive\n",
        "from keras.preprocessing import image\n",
        "from matplotlib import pyplot as plt\n",
        "import matplotlib.image as mpimg\n",
        "import matplotlib.cm as cm\n",
        "import matplotlib.colors as colors\n",
        "%matplotlib inline\n",
        "# importing libraries\n",
        "import numpy as np # library to handle data in a vectorized manner\n",
        "import pandas as pd # library for data analsysis\n",
        "import requests # library to handle requests\n",
        "import json # library to handle JSON files\n",
        "from pandas.io.json import json_normalize # tranform JSON file into a pandas dataframe\n",
        "import math\n",
        "import scipy.stats as stats \n",
        "from google.colab import files\n",
        "from scipy.stats import shapiro\n",
        "from scipy.stats import normaltest\n",
        "from scipy.stats import spearmanr\n",
        "from scipy.stats import pearsonr\n",
        "import scipy\n",
        "import seaborn as sns"
      ],
      "execution_count": 1,
      "outputs": []
    },
    {
      "cell_type": "markdown",
      "metadata": {
        "id": "Z5i1miEP7IKW"
      },
      "source": [
        "Right now, we are trying to do Hypothesis testing.\n",
        "the processes: \n",
        "1.   Purposes: to look for correlation of each data\n",
        "2.   Assumptions : if needed , we can make some assumptions to the data\n",
        "3.   How to: Analyze the correlation in each data with some statistical methods\n",
        "4.   Intrepret: Making summary of analysis"
      ]
    },
    {
      "cell_type": "markdown",
      "metadata": {
        "id": "jhgyTRzr4nKl"
      },
      "source": [
        "1. Upload that file that needed to analyze"
      ]
    },
    {
      "cell_type": "code",
      "metadata": {
        "colab": {
          "resources": {
            "http://localhost:8080/nbextensions/google.colab/files.js": {
              "data": "Ly8gQ29weXJpZ2h0IDIwMTcgR29vZ2xlIExMQwovLwovLyBMaWNlbnNlZCB1bmRlciB0aGUgQXBhY2hlIExpY2Vuc2UsIFZlcnNpb24gMi4wICh0aGUgIkxpY2Vuc2UiKTsKLy8geW91IG1heSBub3QgdXNlIHRoaXMgZmlsZSBleGNlcHQgaW4gY29tcGxpYW5jZSB3aXRoIHRoZSBMaWNlbnNlLgovLyBZb3UgbWF5IG9idGFpbiBhIGNvcHkgb2YgdGhlIExpY2Vuc2UgYXQKLy8KLy8gICAgICBodHRwOi8vd3d3LmFwYWNoZS5vcmcvbGljZW5zZXMvTElDRU5TRS0yLjAKLy8KLy8gVW5sZXNzIHJlcXVpcmVkIGJ5IGFwcGxpY2FibGUgbGF3IG9yIGFncmVlZCB0byBpbiB3cml0aW5nLCBzb2Z0d2FyZQovLyBkaXN0cmlidXRlZCB1bmRlciB0aGUgTGljZW5zZSBpcyBkaXN0cmlidXRlZCBvbiBhbiAiQVMgSVMiIEJBU0lTLAovLyBXSVRIT1VUIFdBUlJBTlRJRVMgT1IgQ09ORElUSU9OUyBPRiBBTlkgS0lORCwgZWl0aGVyIGV4cHJlc3Mgb3IgaW1wbGllZC4KLy8gU2VlIHRoZSBMaWNlbnNlIGZvciB0aGUgc3BlY2lmaWMgbGFuZ3VhZ2UgZ292ZXJuaW5nIHBlcm1pc3Npb25zIGFuZAovLyBsaW1pdGF0aW9ucyB1bmRlciB0aGUgTGljZW5zZS4KCi8qKgogKiBAZmlsZW92ZXJ2aWV3IEhlbHBlcnMgZm9yIGdvb2dsZS5jb2xhYiBQeXRob24gbW9kdWxlLgogKi8KKGZ1bmN0aW9uKHNjb3BlKSB7CmZ1bmN0aW9uIHNwYW4odGV4dCwgc3R5bGVBdHRyaWJ1dGVzID0ge30pIHsKICBjb25zdCBlbGVtZW50ID0gZG9jdW1lbnQuY3JlYXRlRWxlbWVudCgnc3BhbicpOwogIGVsZW1lbnQudGV4dENvbnRlbnQgPSB0ZXh0OwogIGZvciAoY29uc3Qga2V5IG9mIE9iamVjdC5rZXlzKHN0eWxlQXR0cmlidXRlcykpIHsKICAgIGVsZW1lbnQuc3R5bGVba2V5XSA9IHN0eWxlQXR0cmlidXRlc1trZXldOwogIH0KICByZXR1cm4gZWxlbWVudDsKfQoKLy8gTWF4IG51bWJlciBvZiBieXRlcyB3aGljaCB3aWxsIGJlIHVwbG9hZGVkIGF0IGEgdGltZS4KY29uc3QgTUFYX1BBWUxPQURfU0laRSA9IDEwMCAqIDEwMjQ7CgpmdW5jdGlvbiBfdXBsb2FkRmlsZXMoaW5wdXRJZCwgb3V0cHV0SWQpIHsKICBjb25zdCBzdGVwcyA9IHVwbG9hZEZpbGVzU3RlcChpbnB1dElkLCBvdXRwdXRJZCk7CiAgY29uc3Qgb3V0cHV0RWxlbWVudCA9IGRvY3VtZW50LmdldEVsZW1lbnRCeUlkKG91dHB1dElkKTsKICAvLyBDYWNoZSBzdGVwcyBvbiB0aGUgb3V0cHV0RWxlbWVudCB0byBtYWtlIGl0IGF2YWlsYWJsZSBmb3IgdGhlIG5leHQgY2FsbAogIC8vIHRvIHVwbG9hZEZpbGVzQ29udGludWUgZnJvbSBQeXRob24uCiAgb3V0cHV0RWxlbWVudC5zdGVwcyA9IHN0ZXBzOwoKICByZXR1cm4gX3VwbG9hZEZpbGVzQ29udGludWUob3V0cHV0SWQpOwp9CgovLyBUaGlzIGlzIHJvdWdobHkgYW4gYXN5bmMgZ2VuZXJhdG9yIChub3Qgc3VwcG9ydGVkIGluIHRoZSBicm93c2VyIHlldCksCi8vIHdoZXJlIHRoZXJlIGFyZSBtdWx0aXBsZSBhc3luY2hyb25vdXMgc3RlcHMgYW5kIHRoZSBQeXRob24gc2lkZSBpcyBnb2luZwovLyB0byBwb2xsIGZvciBjb21wbGV0aW9uIG9mIGVhY2ggc3RlcC4KLy8gVGhpcyB1c2VzIGEgUHJvbWlzZSB0byBibG9jayB0aGUgcHl0aG9uIHNpZGUgb24gY29tcGxldGlvbiBvZiBlYWNoIHN0ZXAsCi8vIHRoZW4gcGFzc2VzIHRoZSByZXN1bHQgb2YgdGhlIHByZXZpb3VzIHN0ZXAgYXMgdGhlIGlucHV0IHRvIHRoZSBuZXh0IHN0ZXAuCmZ1bmN0aW9uIF91cGxvYWRGaWxlc0NvbnRpbnVlKG91dHB1dElkKSB7CiAgY29uc3Qgb3V0cHV0RWxlbWVudCA9IGRvY3VtZW50LmdldEVsZW1lbnRCeUlkKG91dHB1dElkKTsKICBjb25zdCBzdGVwcyA9IG91dHB1dEVsZW1lbnQuc3RlcHM7CgogIGNvbnN0IG5leHQgPSBzdGVwcy5uZXh0KG91dHB1dEVsZW1lbnQubGFzdFByb21pc2VWYWx1ZSk7CiAgcmV0dXJuIFByb21pc2UucmVzb2x2ZShuZXh0LnZhbHVlLnByb21pc2UpLnRoZW4oKHZhbHVlKSA9PiB7CiAgICAvLyBDYWNoZSB0aGUgbGFzdCBwcm9taXNlIHZhbHVlIHRvIG1ha2UgaXQgYXZhaWxhYmxlIHRvIHRoZSBuZXh0CiAgICAvLyBzdGVwIG9mIHRoZSBnZW5lcmF0b3IuCiAgICBvdXRwdXRFbGVtZW50Lmxhc3RQcm9taXNlVmFsdWUgPSB2YWx1ZTsKICAgIHJldHVybiBuZXh0LnZhbHVlLnJlc3BvbnNlOwogIH0pOwp9CgovKioKICogR2VuZXJhdG9yIGZ1bmN0aW9uIHdoaWNoIGlzIGNhbGxlZCBiZXR3ZWVuIGVhY2ggYXN5bmMgc3RlcCBvZiB0aGUgdXBsb2FkCiAqIHByb2Nlc3MuCiAqIEBwYXJhbSB7c3RyaW5nfSBpbnB1dElkIEVsZW1lbnQgSUQgb2YgdGhlIGlucHV0IGZpbGUgcGlja2VyIGVsZW1lbnQuCiAqIEBwYXJhbSB7c3RyaW5nfSBvdXRwdXRJZCBFbGVtZW50IElEIG9mIHRoZSBvdXRwdXQgZGlzcGxheS4KICogQHJldHVybiB7IUl0ZXJhYmxlPCFPYmplY3Q+fSBJdGVyYWJsZSBvZiBuZXh0IHN0ZXBzLgogKi8KZnVuY3Rpb24qIHVwbG9hZEZpbGVzU3RlcChpbnB1dElkLCBvdXRwdXRJZCkgewogIGNvbnN0IGlucHV0RWxlbWVudCA9IGRvY3VtZW50LmdldEVsZW1lbnRCeUlkKGlucHV0SWQpOwogIGlucHV0RWxlbWVudC5kaXNhYmxlZCA9IGZhbHNlOwoKICBjb25zdCBvdXRwdXRFbGVtZW50ID0gZG9jdW1lbnQuZ2V0RWxlbWVudEJ5SWQob3V0cHV0SWQpOwogIG91dHB1dEVsZW1lbnQuaW5uZXJIVE1MID0gJyc7CgogIGNvbnN0IHBpY2tlZFByb21pc2UgPSBuZXcgUHJvbWlzZSgocmVzb2x2ZSkgPT4gewogICAgaW5wdXRFbGVtZW50LmFkZEV2ZW50TGlzdGVuZXIoJ2NoYW5nZScsIChlKSA9PiB7CiAgICAgIHJlc29sdmUoZS50YXJnZXQuZmlsZXMpOwogICAgfSk7CiAgfSk7CgogIGNvbnN0IGNhbmNlbCA9IGRvY3VtZW50LmNyZWF0ZUVsZW1lbnQoJ2J1dHRvbicpOwogIGlucHV0RWxlbWVudC5wYXJlbnRFbGVtZW50LmFwcGVuZENoaWxkKGNhbmNlbCk7CiAgY2FuY2VsLnRleHRDb250ZW50ID0gJ0NhbmNlbCB1cGxvYWQnOwogIGNvbnN0IGNhbmNlbFByb21pc2UgPSBuZXcgUHJvbWlzZSgocmVzb2x2ZSkgPT4gewogICAgY2FuY2VsLm9uY2xpY2sgPSAoKSA9PiB7CiAgICAgIHJlc29sdmUobnVsbCk7CiAgICB9OwogIH0pOwoKICAvLyBXYWl0IGZvciB0aGUgdXNlciB0byBwaWNrIHRoZSBmaWxlcy4KICBjb25zdCBmaWxlcyA9IHlpZWxkIHsKICAgIHByb21pc2U6IFByb21pc2UucmFjZShbcGlja2VkUHJvbWlzZSwgY2FuY2VsUHJvbWlzZV0pLAogICAgcmVzcG9uc2U6IHsKICAgICAgYWN0aW9uOiAnc3RhcnRpbmcnLAogICAgfQogIH07CgogIGNhbmNlbC5yZW1vdmUoKTsKCiAgLy8gRGlzYWJsZSB0aGUgaW5wdXQgZWxlbWVudCBzaW5jZSBmdXJ0aGVyIHBpY2tzIGFyZSBub3QgYWxsb3dlZC4KICBpbnB1dEVsZW1lbnQuZGlzYWJsZWQgPSB0cnVlOwoKICBpZiAoIWZpbGVzKSB7CiAgICByZXR1cm4gewogICAgICByZXNwb25zZTogewogICAgICAgIGFjdGlvbjogJ2NvbXBsZXRlJywKICAgICAgfQogICAgfTsKICB9CgogIGZvciAoY29uc3QgZmlsZSBvZiBmaWxlcykgewogICAgY29uc3QgbGkgPSBkb2N1bWVudC5jcmVhdGVFbGVtZW50KCdsaScpOwogICAgbGkuYXBwZW5kKHNwYW4oZmlsZS5uYW1lLCB7Zm9udFdlaWdodDogJ2JvbGQnfSkpOwogICAgbGkuYXBwZW5kKHNwYW4oCiAgICAgICAgYCgke2ZpbGUudHlwZSB8fCAnbi9hJ30pIC0gJHtmaWxlLnNpemV9IGJ5dGVzLCBgICsKICAgICAgICBgbGFzdCBtb2RpZmllZDogJHsKICAgICAgICAgICAgZmlsZS5sYXN0TW9kaWZpZWREYXRlID8gZmlsZS5sYXN0TW9kaWZpZWREYXRlLnRvTG9jYWxlRGF0ZVN0cmluZygpIDoKICAgICAgICAgICAgICAgICAgICAgICAgICAgICAgICAgICAgJ24vYSd9IC0gYCkpOwogICAgY29uc3QgcGVyY2VudCA9IHNwYW4oJzAlIGRvbmUnKTsKICAgIGxpLmFwcGVuZENoaWxkKHBlcmNlbnQpOwoKICAgIG91dHB1dEVsZW1lbnQuYXBwZW5kQ2hpbGQobGkpOwoKICAgIGNvbnN0IGZpbGVEYXRhUHJvbWlzZSA9IG5ldyBQcm9taXNlKChyZXNvbHZlKSA9PiB7CiAgICAgIGNvbnN0IHJlYWRlciA9IG5ldyBGaWxlUmVhZGVyKCk7CiAgICAgIHJlYWRlci5vbmxvYWQgPSAoZSkgPT4gewogICAgICAgIHJlc29sdmUoZS50YXJnZXQucmVzdWx0KTsKICAgICAgfTsKICAgICAgcmVhZGVyLnJlYWRBc0FycmF5QnVmZmVyKGZpbGUpOwogICAgfSk7CiAgICAvLyBXYWl0IGZvciB0aGUgZGF0YSB0byBiZSByZWFkeS4KICAgIGxldCBmaWxlRGF0YSA9IHlpZWxkIHsKICAgICAgcHJvbWlzZTogZmlsZURhdGFQcm9taXNlLAogICAgICByZXNwb25zZTogewogICAgICAgIGFjdGlvbjogJ2NvbnRpbnVlJywKICAgICAgfQogICAgfTsKCiAgICAvLyBVc2UgYSBjaHVua2VkIHNlbmRpbmcgdG8gYXZvaWQgbWVzc2FnZSBzaXplIGxpbWl0cy4gU2VlIGIvNjIxMTU2NjAuCiAgICBsZXQgcG9zaXRpb24gPSAwOwogICAgZG8gewogICAgICBjb25zdCBsZW5ndGggPSBNYXRoLm1pbihmaWxlRGF0YS5ieXRlTGVuZ3RoIC0gcG9zaXRpb24sIE1BWF9QQVlMT0FEX1NJWkUpOwogICAgICBjb25zdCBjaHVuayA9IG5ldyBVaW50OEFycmF5KGZpbGVEYXRhLCBwb3NpdGlvbiwgbGVuZ3RoKTsKICAgICAgcG9zaXRpb24gKz0gbGVuZ3RoOwoKICAgICAgY29uc3QgYmFzZTY0ID0gYnRvYShTdHJpbmcuZnJvbUNoYXJDb2RlLmFwcGx5KG51bGwsIGNodW5rKSk7CiAgICAgIHlpZWxkIHsKICAgICAgICByZXNwb25zZTogewogICAgICAgICAgYWN0aW9uOiAnYXBwZW5kJywKICAgICAgICAgIGZpbGU6IGZpbGUubmFtZSwKICAgICAgICAgIGRhdGE6IGJhc2U2NCwKICAgICAgICB9LAogICAgICB9OwoKICAgICAgbGV0IHBlcmNlbnREb25lID0gZmlsZURhdGEuYnl0ZUxlbmd0aCA9PT0gMCA/CiAgICAgICAgICAxMDAgOgogICAgICAgICAgTWF0aC5yb3VuZCgocG9zaXRpb24gLyBmaWxlRGF0YS5ieXRlTGVuZ3RoKSAqIDEwMCk7CiAgICAgIHBlcmNlbnQudGV4dENvbnRlbnQgPSBgJHtwZXJjZW50RG9uZX0lIGRvbmVgOwoKICAgIH0gd2hpbGUgKHBvc2l0aW9uIDwgZmlsZURhdGEuYnl0ZUxlbmd0aCk7CiAgfQoKICAvLyBBbGwgZG9uZS4KICB5aWVsZCB7CiAgICByZXNwb25zZTogewogICAgICBhY3Rpb246ICdjb21wbGV0ZScsCiAgICB9CiAgfTsKfQoKc2NvcGUuZ29vZ2xlID0gc2NvcGUuZ29vZ2xlIHx8IHt9OwpzY29wZS5nb29nbGUuY29sYWIgPSBzY29wZS5nb29nbGUuY29sYWIgfHwge307CnNjb3BlLmdvb2dsZS5jb2xhYi5fZmlsZXMgPSB7CiAgX3VwbG9hZEZpbGVzLAogIF91cGxvYWRGaWxlc0NvbnRpbnVlLAp9Owp9KShzZWxmKTsK",
              "ok": true,
              "headers": [
                [
                  "content-type",
                  "application/javascript"
                ]
              ],
              "status": 200,
              "status_text": "OK"
            }
          },
          "base_uri": "https://localhost:8080/",
          "height": 75
        },
        "id": "o1PJ5XvSFHbI",
        "outputId": "e0a2effc-0420-4a86-e5ec-40c7482f023b"
      },
      "source": [
        "from google.colab import files\n",
        "uploaded = files.upload()"
      ],
      "execution_count": 2,
      "outputs": [
        {
          "output_type": "display_data",
          "data": {
            "text/html": [
              "\n",
              "     <input type=\"file\" id=\"files-dbce6449-c024-4bee-81ea-12136672acb1\" name=\"files[]\" multiple disabled\n",
              "        style=\"border:none\" />\n",
              "     <output id=\"result-dbce6449-c024-4bee-81ea-12136672acb1\">\n",
              "      Upload widget is only available when the cell has been executed in the\n",
              "      current browser session. Please rerun this cell to enable.\n",
              "      </output>\n",
              "      <script src=\"/nbextensions/google.colab/files.js\"></script> "
            ],
            "text/plain": [
              "<IPython.core.display.HTML object>"
            ]
          },
          "metadata": {
            "tags": []
          }
        },
        {
          "output_type": "stream",
          "text": [
            "Saving ingredient.csv to ingredient.csv\n"
          ],
          "name": "stdout"
        }
      ]
    },
    {
      "cell_type": "code",
      "metadata": {
        "id": "Ku4Tm81IFPML"
      },
      "source": [
        "additives_df=pd.read_csv('ingredient.csv')"
      ],
      "execution_count": 3,
      "outputs": []
    },
    {
      "cell_type": "markdown",
      "metadata": {
        "id": "rCxoOS4z4x7c"
      },
      "source": [
        "2. Look at the Data of ingredient.csv"
      ]
    },
    {
      "cell_type": "code",
      "metadata": {
        "colab": {
          "base_uri": "https://localhost:8080/",
          "height": 206
        },
        "id": "YpqvJiRKFeuG",
        "outputId": "e94a6ece-69be-4a34-be04-a0d4b74ce956"
      },
      "source": [
        "additives_df.head()"
      ],
      "execution_count": 4,
      "outputs": [
        {
          "output_type": "execute_result",
          "data": {
            "text/html": [
              "<div>\n",
              "<style scoped>\n",
              "    .dataframe tbody tr th:only-of-type {\n",
              "        vertical-align: middle;\n",
              "    }\n",
              "\n",
              "    .dataframe tbody tr th {\n",
              "        vertical-align: top;\n",
              "    }\n",
              "\n",
              "    .dataframe thead th {\n",
              "        text-align: right;\n",
              "    }\n",
              "</style>\n",
              "<table border=\"1\" class=\"dataframe\">\n",
              "  <thead>\n",
              "    <tr style=\"text-align: right;\">\n",
              "      <th></th>\n",
              "      <th>a</th>\n",
              "      <th>b</th>\n",
              "      <th>c</th>\n",
              "      <th>d</th>\n",
              "      <th>e</th>\n",
              "      <th>f</th>\n",
              "      <th>g</th>\n",
              "      <th>h</th>\n",
              "      <th>i</th>\n",
              "    </tr>\n",
              "  </thead>\n",
              "  <tbody>\n",
              "    <tr>\n",
              "      <th>0</th>\n",
              "      <td>1.51735</td>\n",
              "      <td>13.02</td>\n",
              "      <td>3.54</td>\n",
              "      <td>1.69</td>\n",
              "      <td>72.73</td>\n",
              "      <td>0.54</td>\n",
              "      <td>8.44</td>\n",
              "      <td>0.00</td>\n",
              "      <td>0.07</td>\n",
              "    </tr>\n",
              "    <tr>\n",
              "      <th>1</th>\n",
              "      <td>1.53125</td>\n",
              "      <td>10.73</td>\n",
              "      <td>0.00</td>\n",
              "      <td>2.10</td>\n",
              "      <td>69.81</td>\n",
              "      <td>0.58</td>\n",
              "      <td>13.30</td>\n",
              "      <td>3.15</td>\n",
              "      <td>0.28</td>\n",
              "    </tr>\n",
              "    <tr>\n",
              "      <th>2</th>\n",
              "      <td>1.52300</td>\n",
              "      <td>13.31</td>\n",
              "      <td>3.58</td>\n",
              "      <td>0.82</td>\n",
              "      <td>71.99</td>\n",
              "      <td>0.12</td>\n",
              "      <td>10.17</td>\n",
              "      <td>0.00</td>\n",
              "      <td>0.03</td>\n",
              "    </tr>\n",
              "    <tr>\n",
              "      <th>3</th>\n",
              "      <td>1.51768</td>\n",
              "      <td>12.56</td>\n",
              "      <td>3.52</td>\n",
              "      <td>1.43</td>\n",
              "      <td>73.15</td>\n",
              "      <td>0.57</td>\n",
              "      <td>8.54</td>\n",
              "      <td>0.00</td>\n",
              "      <td>0.00</td>\n",
              "    </tr>\n",
              "    <tr>\n",
              "      <th>4</th>\n",
              "      <td>1.51813</td>\n",
              "      <td>13.43</td>\n",
              "      <td>3.98</td>\n",
              "      <td>1.18</td>\n",
              "      <td>72.49</td>\n",
              "      <td>0.58</td>\n",
              "      <td>8.15</td>\n",
              "      <td>0.00</td>\n",
              "      <td>0.00</td>\n",
              "    </tr>\n",
              "  </tbody>\n",
              "</table>\n",
              "</div>"
            ],
            "text/plain": [
              "         a      b     c     d      e     f      g     h     i\n",
              "0  1.51735  13.02  3.54  1.69  72.73  0.54   8.44  0.00  0.07\n",
              "1  1.53125  10.73  0.00  2.10  69.81  0.58  13.30  3.15  0.28\n",
              "2  1.52300  13.31  3.58  0.82  71.99  0.12  10.17  0.00  0.03\n",
              "3  1.51768  12.56  3.52  1.43  73.15  0.57   8.54  0.00  0.00\n",
              "4  1.51813  13.43  3.98  1.18  72.49  0.58   8.15  0.00  0.00"
            ]
          },
          "metadata": {
            "tags": []
          },
          "execution_count": 4
        }
      ]
    },
    {
      "cell_type": "markdown",
      "metadata": {
        "id": "NTfhrznqxIje"
      },
      "source": [
        "# **Data Cleaning** \n",
        "lets simply clear the dataset by dropping the rows that have null value:"
      ]
    },
    {
      "cell_type": "code",
      "metadata": {
        "colab": {
          "base_uri": "https://localhost:8080/",
          "height": 243
        },
        "id": "oDsrcLRFwV6t",
        "outputId": "11652cf4-849f-45f5-df66-e1a1b56c9ab6"
      },
      "source": [
        "print (\"Shape of dataset before cleaning: \", additives_df.size)\n",
        "additives_df[[ 'a', 'b', 'c', 'd', 'e',\n",
        "       'f', 'g', 'h', 'i']] = additives_df[[ 'a', 'b', 'c', 'd', 'e',\n",
        "       'f', 'g', 'h', 'i']].apply(pd.to_numeric, errors='coerce')\n",
        "additives_df = additives_df.dropna()\n",
        "additives_df = additives_df.reset_index(drop=True)\n",
        "print (\"Shape of dataset after cleaning: \", additives_df.size)\n",
        "additives_df.head(5)"
      ],
      "execution_count": 5,
      "outputs": [
        {
          "output_type": "stream",
          "text": [
            "Shape of dataset before cleaning:  1926\n",
            "Shape of dataset after cleaning:  1926\n"
          ],
          "name": "stdout"
        },
        {
          "output_type": "execute_result",
          "data": {
            "text/html": [
              "<div>\n",
              "<style scoped>\n",
              "    .dataframe tbody tr th:only-of-type {\n",
              "        vertical-align: middle;\n",
              "    }\n",
              "\n",
              "    .dataframe tbody tr th {\n",
              "        vertical-align: top;\n",
              "    }\n",
              "\n",
              "    .dataframe thead th {\n",
              "        text-align: right;\n",
              "    }\n",
              "</style>\n",
              "<table border=\"1\" class=\"dataframe\">\n",
              "  <thead>\n",
              "    <tr style=\"text-align: right;\">\n",
              "      <th></th>\n",
              "      <th>a</th>\n",
              "      <th>b</th>\n",
              "      <th>c</th>\n",
              "      <th>d</th>\n",
              "      <th>e</th>\n",
              "      <th>f</th>\n",
              "      <th>g</th>\n",
              "      <th>h</th>\n",
              "      <th>i</th>\n",
              "    </tr>\n",
              "  </thead>\n",
              "  <tbody>\n",
              "    <tr>\n",
              "      <th>0</th>\n",
              "      <td>1.51735</td>\n",
              "      <td>13.02</td>\n",
              "      <td>3.54</td>\n",
              "      <td>1.69</td>\n",
              "      <td>72.73</td>\n",
              "      <td>0.54</td>\n",
              "      <td>8.44</td>\n",
              "      <td>0.00</td>\n",
              "      <td>0.07</td>\n",
              "    </tr>\n",
              "    <tr>\n",
              "      <th>1</th>\n",
              "      <td>1.53125</td>\n",
              "      <td>10.73</td>\n",
              "      <td>0.00</td>\n",
              "      <td>2.10</td>\n",
              "      <td>69.81</td>\n",
              "      <td>0.58</td>\n",
              "      <td>13.30</td>\n",
              "      <td>3.15</td>\n",
              "      <td>0.28</td>\n",
              "    </tr>\n",
              "    <tr>\n",
              "      <th>2</th>\n",
              "      <td>1.52300</td>\n",
              "      <td>13.31</td>\n",
              "      <td>3.58</td>\n",
              "      <td>0.82</td>\n",
              "      <td>71.99</td>\n",
              "      <td>0.12</td>\n",
              "      <td>10.17</td>\n",
              "      <td>0.00</td>\n",
              "      <td>0.03</td>\n",
              "    </tr>\n",
              "    <tr>\n",
              "      <th>3</th>\n",
              "      <td>1.51768</td>\n",
              "      <td>12.56</td>\n",
              "      <td>3.52</td>\n",
              "      <td>1.43</td>\n",
              "      <td>73.15</td>\n",
              "      <td>0.57</td>\n",
              "      <td>8.54</td>\n",
              "      <td>0.00</td>\n",
              "      <td>0.00</td>\n",
              "    </tr>\n",
              "    <tr>\n",
              "      <th>4</th>\n",
              "      <td>1.51813</td>\n",
              "      <td>13.43</td>\n",
              "      <td>3.98</td>\n",
              "      <td>1.18</td>\n",
              "      <td>72.49</td>\n",
              "      <td>0.58</td>\n",
              "      <td>8.15</td>\n",
              "      <td>0.00</td>\n",
              "      <td>0.00</td>\n",
              "    </tr>\n",
              "  </tbody>\n",
              "</table>\n",
              "</div>"
            ],
            "text/plain": [
              "         a      b     c     d      e     f      g     h     i\n",
              "0  1.51735  13.02  3.54  1.69  72.73  0.54   8.44  0.00  0.07\n",
              "1  1.53125  10.73  0.00  2.10  69.81  0.58  13.30  3.15  0.28\n",
              "2  1.52300  13.31  3.58  0.82  71.99  0.12  10.17  0.00  0.03\n",
              "3  1.51768  12.56  3.52  1.43  73.15  0.57   8.54  0.00  0.00\n",
              "4  1.51813  13.43  3.98  1.18  72.49  0.58   8.15  0.00  0.00"
            ]
          },
          "metadata": {
            "tags": []
          },
          "execution_count": 5
        }
      ]
    },
    {
      "cell_type": "code",
      "metadata": {
        "id": "E1aUfCB8M01_"
      },
      "source": [
        "corr_additives = additives_df.corr()"
      ],
      "execution_count": 6,
      "outputs": []
    },
    {
      "cell_type": "markdown",
      "metadata": {
        "id": "24Z8DNL04--T"
      },
      "source": [
        "3. Look at the Correlation of the data in all aspects. and it tells in overall it doesnt really have correlation because the numbers tells it has a preety low correlation."
      ]
    },
    {
      "cell_type": "code",
      "metadata": {
        "colab": {
          "base_uri": "https://localhost:8080/"
        },
        "id": "_uMTlaCmM9jk",
        "outputId": "be6b1fbc-2ab1-4909-a1cb-29462c1950cc"
      },
      "source": [
        "print(corr_additives)"
      ],
      "execution_count": 7,
      "outputs": [
        {
          "output_type": "stream",
          "text": [
            "          a         b         c  ...         g         h         i\n",
            "a  1.000000 -0.191885 -0.122274  ...  0.810403 -0.000386  0.143010\n",
            "b -0.191885  1.000000 -0.273732  ... -0.275442  0.326603 -0.241346\n",
            "c -0.122274 -0.273732  1.000000  ... -0.443750 -0.492262  0.083060\n",
            "d -0.407326  0.156794 -0.481799  ... -0.259592  0.479404 -0.074402\n",
            "e -0.542052 -0.069809 -0.165927  ... -0.208732 -0.102151 -0.094201\n",
            "f -0.289833 -0.266087  0.005396  ... -0.317836 -0.042618 -0.007719\n",
            "g  0.810403 -0.275442 -0.443750  ...  1.000000 -0.112841  0.124968\n",
            "h -0.000386  0.326603 -0.492262  ... -0.112841  1.000000 -0.058692\n",
            "i  0.143010 -0.241346  0.083060  ...  0.124968 -0.058692  1.000000\n",
            "\n",
            "[9 rows x 9 columns]\n"
          ],
          "name": "stdout"
        }
      ]
    },
    {
      "cell_type": "markdown",
      "metadata": {
        "id": "hZeUaBfO6ReE"
      },
      "source": [
        "4. From here we can try to derive the correlation between a - i from the statistics analytics that we have done"
      ]
    },
    {
      "cell_type": "code",
      "metadata": {
        "colab": {
          "base_uri": "https://localhost:8080/",
          "height": 300
        },
        "id": "SAh71JJQPKdQ",
        "outputId": "0cafb805-7b6c-4c26-daa6-76d414d1466b"
      },
      "source": [
        "additives_df.describe()"
      ],
      "execution_count": 8,
      "outputs": [
        {
          "output_type": "execute_result",
          "data": {
            "text/html": [
              "<div>\n",
              "<style scoped>\n",
              "    .dataframe tbody tr th:only-of-type {\n",
              "        vertical-align: middle;\n",
              "    }\n",
              "\n",
              "    .dataframe tbody tr th {\n",
              "        vertical-align: top;\n",
              "    }\n",
              "\n",
              "    .dataframe thead th {\n",
              "        text-align: right;\n",
              "    }\n",
              "</style>\n",
              "<table border=\"1\" class=\"dataframe\">\n",
              "  <thead>\n",
              "    <tr style=\"text-align: right;\">\n",
              "      <th></th>\n",
              "      <th>a</th>\n",
              "      <th>b</th>\n",
              "      <th>c</th>\n",
              "      <th>d</th>\n",
              "      <th>e</th>\n",
              "      <th>f</th>\n",
              "      <th>g</th>\n",
              "      <th>h</th>\n",
              "      <th>i</th>\n",
              "    </tr>\n",
              "  </thead>\n",
              "  <tbody>\n",
              "    <tr>\n",
              "      <th>count</th>\n",
              "      <td>214.000000</td>\n",
              "      <td>214.000000</td>\n",
              "      <td>214.000000</td>\n",
              "      <td>214.000000</td>\n",
              "      <td>214.000000</td>\n",
              "      <td>214.000000</td>\n",
              "      <td>214.000000</td>\n",
              "      <td>214.000000</td>\n",
              "      <td>214.000000</td>\n",
              "    </tr>\n",
              "    <tr>\n",
              "      <th>mean</th>\n",
              "      <td>1.518365</td>\n",
              "      <td>13.407850</td>\n",
              "      <td>2.684533</td>\n",
              "      <td>1.444907</td>\n",
              "      <td>72.650935</td>\n",
              "      <td>0.497056</td>\n",
              "      <td>8.956963</td>\n",
              "      <td>0.175047</td>\n",
              "      <td>0.057009</td>\n",
              "    </tr>\n",
              "    <tr>\n",
              "      <th>std</th>\n",
              "      <td>0.003037</td>\n",
              "      <td>0.816604</td>\n",
              "      <td>1.442408</td>\n",
              "      <td>0.499270</td>\n",
              "      <td>0.774546</td>\n",
              "      <td>0.652192</td>\n",
              "      <td>1.423153</td>\n",
              "      <td>0.497219</td>\n",
              "      <td>0.097439</td>\n",
              "    </tr>\n",
              "    <tr>\n",
              "      <th>min</th>\n",
              "      <td>1.511150</td>\n",
              "      <td>10.730000</td>\n",
              "      <td>0.000000</td>\n",
              "      <td>0.290000</td>\n",
              "      <td>69.810000</td>\n",
              "      <td>0.000000</td>\n",
              "      <td>5.430000</td>\n",
              "      <td>0.000000</td>\n",
              "      <td>0.000000</td>\n",
              "    </tr>\n",
              "    <tr>\n",
              "      <th>25%</th>\n",
              "      <td>1.516523</td>\n",
              "      <td>12.907500</td>\n",
              "      <td>2.115000</td>\n",
              "      <td>1.190000</td>\n",
              "      <td>72.280000</td>\n",
              "      <td>0.122500</td>\n",
              "      <td>8.240000</td>\n",
              "      <td>0.000000</td>\n",
              "      <td>0.000000</td>\n",
              "    </tr>\n",
              "    <tr>\n",
              "      <th>50%</th>\n",
              "      <td>1.517680</td>\n",
              "      <td>13.300000</td>\n",
              "      <td>3.480000</td>\n",
              "      <td>1.360000</td>\n",
              "      <td>72.790000</td>\n",
              "      <td>0.555000</td>\n",
              "      <td>8.600000</td>\n",
              "      <td>0.000000</td>\n",
              "      <td>0.000000</td>\n",
              "    </tr>\n",
              "    <tr>\n",
              "      <th>75%</th>\n",
              "      <td>1.519157</td>\n",
              "      <td>13.825000</td>\n",
              "      <td>3.600000</td>\n",
              "      <td>1.630000</td>\n",
              "      <td>73.087500</td>\n",
              "      <td>0.610000</td>\n",
              "      <td>9.172500</td>\n",
              "      <td>0.000000</td>\n",
              "      <td>0.100000</td>\n",
              "    </tr>\n",
              "    <tr>\n",
              "      <th>max</th>\n",
              "      <td>1.533930</td>\n",
              "      <td>17.380000</td>\n",
              "      <td>4.490000</td>\n",
              "      <td>3.500000</td>\n",
              "      <td>75.410000</td>\n",
              "      <td>6.210000</td>\n",
              "      <td>16.190000</td>\n",
              "      <td>3.150000</td>\n",
              "      <td>0.510000</td>\n",
              "    </tr>\n",
              "  </tbody>\n",
              "</table>\n",
              "</div>"
            ],
            "text/plain": [
              "                a           b           c  ...           g           h           i\n",
              "count  214.000000  214.000000  214.000000  ...  214.000000  214.000000  214.000000\n",
              "mean     1.518365   13.407850    2.684533  ...    8.956963    0.175047    0.057009\n",
              "std      0.003037    0.816604    1.442408  ...    1.423153    0.497219    0.097439\n",
              "min      1.511150   10.730000    0.000000  ...    5.430000    0.000000    0.000000\n",
              "25%      1.516523   12.907500    2.115000  ...    8.240000    0.000000    0.000000\n",
              "50%      1.517680   13.300000    3.480000  ...    8.600000    0.000000    0.000000\n",
              "75%      1.519157   13.825000    3.600000  ...    9.172500    0.000000    0.100000\n",
              "max      1.533930   17.380000    4.490000  ...   16.190000    3.150000    0.510000\n",
              "\n",
              "[8 rows x 9 columns]"
            ]
          },
          "metadata": {
            "tags": []
          },
          "execution_count": 8
        }
      ]
    },
    {
      "cell_type": "markdown",
      "metadata": {
        "id": "Myi-GjLx65dN"
      },
      "source": [
        "**Normality test using Shapiro-Wilk Test : tests If data is normally distributed**\n",
        "*   Assumption : Observations are identically distributed\n"
      ]
    },
    {
      "cell_type": "markdown",
      "metadata": {
        "id": "RnDzf12i_s6N"
      },
      "source": [
        "Checking histogram indentify by one variable"
      ]
    },
    {
      "cell_type": "code",
      "metadata": {
        "colab": {
          "base_uri": "https://localhost:8080/",
          "height": 374
        },
        "id": "T3u38mItXBX7",
        "outputId": "059bddb7-1204-44a3-f800-c3a0c3038198"
      },
      "source": [
        "plt.figure(figsize=(14,6))\n",
        "plt.hist(additives_df.a)\n",
        "plt.show()"
      ],
      "execution_count": 9,
      "outputs": [
        {
          "output_type": "display_data",
          "data": {
            "image/png": "[encoded data removed]",
            "text/plain": [
              "<Figure size 1008x432 with 1 Axes>"
            ]
          },
          "metadata": {
            "tags": [],
            "needs_background": "light"
          }
        }
      ]
    },
    {
      "cell_type": "code",
      "metadata": {
        "colab": {
          "base_uri": "https://localhost:8080/",
          "height": 374
        },
        "id": "R_p9aG3yYdjn",
        "outputId": "949cd0a2-c4ed-4539-80c1-908ed0c01e03"
      },
      "source": [
        "plt.figure(figsize=(14,6))\n",
        "plt.hist(additives_df.b)\n",
        "plt.show()"
      ],
      "execution_count": 10,
      "outputs": [
        {
          "output_type": "display_data",
          "data": {
            "image/png": "[encoded data removed]",
            "text/plain": [
              "<Figure size 1008x432 with 1 Axes>"
            ]
          },
          "metadata": {
            "tags": [],
            "needs_background": "light"
          }
        }
      ]
    },
    {
      "cell_type": "code",
      "metadata": {
        "colab": {
          "base_uri": "https://localhost:8080/",
          "height": 374
        },
        "id": "PWn6VxKwYfut",
        "outputId": "f3e72468-e785-455e-f21d-ad58296d2e86"
      },
      "source": [
        "plt.figure(figsize=(14,6))\n",
        "plt.hist(additives_df.c)\n",
        "plt.show()"
      ],
      "execution_count": 11,
      "outputs": [
        {
          "output_type": "display_data",
          "data": {
            "image/png": "[encoded data removed]",
            "text/plain": [
              "<Figure size 1008x432 with 1 Axes>"
            ]
          },
          "metadata": {
            "tags": [],
            "needs_background": "light"
          }
        }
      ]
    },
    {
      "cell_type": "code",
      "metadata": {
        "colab": {
          "base_uri": "https://localhost:8080/",
          "height": 374
        },
        "id": "bVx4WMh7YgOD",
        "outputId": "0e13b7aa-03a2-4797-b4bd-08de4df7e813"
      },
      "source": [
        "plt.figure(figsize=(14,6))\n",
        "plt.hist(additives_df.d)\n",
        "plt.show()"
      ],
      "execution_count": 12,
      "outputs": [
        {
          "output_type": "display_data",
          "data": {
            "image/png": "[encoded data removed]",
            "text/plain": [
              "<Figure size 1008x432 with 1 Axes>"
            ]
          },
          "metadata": {
            "tags": [],
            "needs_background": "light"
          }
        }
      ]
    },
    {
      "cell_type": "code",
      "metadata": {
        "colab": {
          "base_uri": "https://localhost:8080/",
          "height": 374
        },
        "id": "0dWw6_9mYgZ5",
        "outputId": "bb3c0c51-904b-4b98-a5bf-134f63f60a0e"
      },
      "source": [
        "plt.figure(figsize=(14,6))\n",
        "plt.hist(additives_df.e)\n",
        "plt.show()"
      ],
      "execution_count": 13,
      "outputs": [
        {
          "output_type": "display_data",
          "data": {
            "image/png": "[encoded data removed]",
            "text/plain": [
              "<Figure size 1008x432 with 1 Axes>"
            ]
          },
          "metadata": {
            "tags": [],
            "needs_background": "light"
          }
        }
      ]
    },
    {
      "cell_type": "code",
      "metadata": {
        "colab": {
          "base_uri": "https://localhost:8080/",
          "height": 374
        },
        "id": "_97m0qqwYglW",
        "outputId": "fe8bcac9-8825-460e-c8e1-de4d812c679c"
      },
      "source": [
        "plt.figure(figsize=(14,6))\n",
        "plt.hist(additives_df.f)\n",
        "plt.show()"
      ],
      "execution_count": 14,
      "outputs": [
        {
          "output_type": "display_data",
          "data": {
            "image/png": "[encoded data removed]",
            "text/plain": [
              "<Figure size 1008x432 with 1 Axes>"
            ]
          },
          "metadata": {
            "tags": [],
            "needs_background": "light"
          }
        }
      ]
    },
    {
      "cell_type": "code",
      "metadata": {
        "colab": {
          "base_uri": "https://localhost:8080/",
          "height": 374
        },
        "id": "5XqYGVpmYgvz",
        "outputId": "1e367005-555d-4562-a1ec-44f589484a94"
      },
      "source": [
        "plt.figure(figsize=(14,6))\n",
        "plt.hist(additives_df.g)\n",
        "plt.show()"
      ],
      "execution_count": 15,
      "outputs": [
        {
          "output_type": "display_data",
          "data": {
            "image/png": "[encoded data removed]",
            "text/plain": [
              "<Figure size 1008x432 with 1 Axes>"
            ]
          },
          "metadata": {
            "tags": [],
            "needs_background": "light"
          }
        }
      ]
    },
    {
      "cell_type": "code",
      "metadata": {
        "colab": {
          "base_uri": "https://localhost:8080/",
          "height": 374
        },
        "id": "SCKGzqbOYovi",
        "outputId": "59e8fbad-1353-4451-9b22-cf4b09055129"
      },
      "source": [
        "plt.figure(figsize=(14,6))\n",
        "plt.hist(additives_df.h)\n",
        "plt.show()"
      ],
      "execution_count": 16,
      "outputs": [
        {
          "output_type": "display_data",
          "data": {
            "image/png": "[encoded data removed]",
            "text/plain": [
              "<Figure size 1008x432 with 1 Axes>"
            ]
          },
          "metadata": {
            "tags": [],
            "needs_background": "light"
          }
        }
      ]
    },
    {
      "cell_type": "code",
      "metadata": {
        "colab": {
          "base_uri": "https://localhost:8080/",
          "height": 374
        },
        "id": "hlQpKKyuYqHx",
        "outputId": "3fe3c973-de74-4aba-c256-ee5b99a0ad46"
      },
      "source": [
        "plt.figure(figsize=(14,6))\n",
        "plt.hist(additives_df.i)\n",
        "plt.show()"
      ],
      "execution_count": 17,
      "outputs": [
        {
          "output_type": "display_data",
          "data": {
            "image/png": "[encoded data removed]",
            "text/plain": [
              "<Figure size 1008x432 with 1 Axes>"
            ]
          },
          "metadata": {
            "tags": [],
            "needs_background": "light"
          }
        }
      ]
    },
    {
      "cell_type": "markdown",
      "metadata": {
        "id": "QDs6b1cSBec9"
      },
      "source": [
        "From the overall histogram that being showed. It looks like it doesnt have a normal distribution."
      ]
    },
    {
      "cell_type": "markdown",
      "metadata": {
        "id": "OstpAKkjCEyu"
      },
      "source": [
        "Let's Clarify things with statistical method which is Shapiro-Wilk Test"
      ]
    },
    {
      "cell_type": "code",
      "metadata": {
        "colab": {
          "base_uri": "https://localhost:8080/"
        },
        "id": "yfKRdhNd4hzW",
        "outputId": "97934ed9-fa85-4c86-9b90-835d523d65af"
      },
      "source": [
        "#Help from Python\n",
        "from scipy.stats import shapiro\n",
        "\n",
        "DataToTest = additives_df['a']\n",
        "\n",
        "stat, p = shapiro(DataToTest)\n",
        "\n",
        "print('stat=%.2f, p=%.30f' % (stat, p))\n",
        "\n",
        "if p > 0.05:\n",
        "    print('Normal distribution')\n",
        "else:\n",
        "    print('Not a normal distribution')"
      ],
      "execution_count": 18,
      "outputs": [
        {
          "output_type": "stream",
          "text": [
            "stat=0.87, p=0.000000000001076643223359152746\n",
            "Not a normal distribution\n"
          ],
          "name": "stdout"
        }
      ]
    },
    {
      "cell_type": "code",
      "metadata": {
        "colab": {
          "base_uri": "https://localhost:8080/"
        },
        "id": "ptJUZ9UkCcz8",
        "outputId": "62a329d8-934c-4601-c6c2-28c53ed1e86b"
      },
      "source": [
        "DataToTest = additives_df['b']\n",
        "\n",
        "stat, p = shapiro(DataToTest)\n",
        "\n",
        "print('stat=%.2f, p=%.30f' % (stat, p))\n",
        "\n",
        "if p > 0.05:\n",
        "    print('Normal distribution')\n",
        "else:\n",
        "    print('Not a normal distribution')"
      ],
      "execution_count": 19,
      "outputs": [
        {
          "output_type": "stream",
          "text": [
            "stat=0.95, p=0.000000346568327813656651414931\n",
            "Not a normal distribution\n"
          ],
          "name": "stdout"
        }
      ]
    },
    {
      "cell_type": "code",
      "metadata": {
        "colab": {
          "base_uri": "https://localhost:8080/"
        },
        "id": "YlcEGaZGCday",
        "outputId": "593d7881-a7f0-4980-e3a4-226f7f0b9cf6"
      },
      "source": [
        "DataToTest = additives_df['c']\n",
        "\n",
        "stat, p = shapiro(DataToTest)\n",
        "\n",
        "print('stat=%.2f, p=%.30f' % (stat, p))\n",
        "\n",
        "if p > 0.05:\n",
        "    print('Normal distribution')\n",
        "else:\n",
        "    print('Not a normal distribution')"
      ],
      "execution_count": 20,
      "outputs": [
        {
          "output_type": "stream",
          "text": [
            "stat=0.70, p=0.000000000000000000239089938614\n",
            "Not a normal distribution\n"
          ],
          "name": "stdout"
        }
      ]
    },
    {
      "cell_type": "code",
      "metadata": {
        "colab": {
          "base_uri": "https://localhost:8080/"
        },
        "id": "V3ADHTu_Cdni",
        "outputId": "920b306b-024b-4b3f-d572-093f35aa8c32"
      },
      "source": [
        "DataToTest = additives_df['d']\n",
        "\n",
        "stat, p = shapiro(DataToTest)\n",
        "\n",
        "print('stat=%.2f, p=%.30f' % (stat, p))\n",
        "\n",
        "if p > 0.05:\n",
        "    print('Normal distribution')\n",
        "else:\n",
        "    print('Not a normal distribution')"
      ],
      "execution_count": 21,
      "outputs": [
        {
          "output_type": "stream",
          "text": [
            "stat=0.94, p=0.000000208319562489123200066388\n",
            "Not a normal distribution\n"
          ],
          "name": "stdout"
        }
      ]
    },
    {
      "cell_type": "code",
      "metadata": {
        "colab": {
          "base_uri": "https://localhost:8080/"
        },
        "id": "rU-wuovnCdys",
        "outputId": "c5837f3e-0f77-4e6a-bedf-10354bc80e75"
      },
      "source": [
        "DataToTest = additives_df['e']\n",
        "\n",
        "stat, p = shapiro(DataToTest)\n",
        "\n",
        "print('stat=%.2f, p=%.30f' % (stat, p))\n",
        "\n",
        "if p > 0.05:\n",
        "    print('Normal distribution')\n",
        "else:\n",
        "    print('Not a normal distribution')"
      ],
      "execution_count": 22,
      "outputs": [
        {
          "output_type": "stream",
          "text": [
            "stat=0.92, p=0.000000002174813440447564971691\n",
            "Not a normal distribution\n"
          ],
          "name": "stdout"
        }
      ]
    },
    {
      "cell_type": "code",
      "metadata": {
        "colab": {
          "base_uri": "https://localhost:8080/"
        },
        "id": "3GZXboheCd-C",
        "outputId": "15af3e03-4a83-401d-fc79-0b62d06b807a"
      },
      "source": [
        "DataToTest = additives_df['f']\n",
        "\n",
        "stat, p = shapiro(DataToTest)\n",
        "\n",
        "print('stat=%.2f, p=%.30f' % (stat, p))\n",
        "\n",
        "if p > 0.05:\n",
        "    print('Normal distribution')\n",
        "else:\n",
        "    print('Not a normal distribution')"
      ],
      "execution_count": 23,
      "outputs": [
        {
          "output_type": "stream",
          "text": [
            "stat=0.44, p=0.000000000000000000000000217217\n",
            "Not a normal distribution\n"
          ],
          "name": "stdout"
        }
      ]
    },
    {
      "cell_type": "code",
      "metadata": {
        "colab": {
          "base_uri": "https://localhost:8080/"
        },
        "id": "k8e2kqiSCeIl",
        "outputId": "7250c140-788d-4dd6-f457-c41a6c07b30d"
      },
      "source": [
        "DataToTest = additives_df['g']\n",
        "\n",
        "stat, p = shapiro(DataToTest)\n",
        "\n",
        "print('stat=%.2f, p=%.30f' % (stat, p))\n",
        "\n",
        "if p > 0.05:\n",
        "    print('Normal distribution')\n",
        "else:\n",
        "    print('Not a normal distribution')"
      ],
      "execution_count": 24,
      "outputs": [
        {
          "output_type": "stream",
          "text": [
            "stat=0.79, p=0.000000000000000428665375155272\n",
            "Not a normal distribution\n"
          ],
          "name": "stdout"
        }
      ]
    },
    {
      "cell_type": "code",
      "metadata": {
        "colab": {
          "base_uri": "https://localhost:8080/"
        },
        "id": "3WKkfobKCeTP",
        "outputId": "b83fe036-cdce-4fbc-bd7d-fc432cb97d91"
      },
      "source": [
        "DataToTest = additives_df['h']\n",
        "\n",
        "stat, p = shapiro(DataToTest)\n",
        "\n",
        "print('stat=%.2f, p=%.30f' % (stat, p))\n",
        "\n",
        "if p > 0.05:\n",
        "    print('Normal distribution')\n",
        "else:\n",
        "    print('Not a normal distribution')"
      ],
      "execution_count": 25,
      "outputs": [
        {
          "output_type": "stream",
          "text": [
            "stat=0.41, p=0.000000000000000000000000053833\n",
            "Not a normal distribution\n"
          ],
          "name": "stdout"
        }
      ]
    },
    {
      "cell_type": "code",
      "metadata": {
        "colab": {
          "base_uri": "https://localhost:8080/"
        },
        "id": "5DpGGiX2CnL8",
        "outputId": "e025938f-3158-46d2-f2db-8aa26acfb298"
      },
      "source": [
        "DataToTest = additives_df['i']\n",
        "\n",
        "stat, p = shapiro(DataToTest)\n",
        "\n",
        "print('stat=%.2f, p=%.30f' % (stat, p))\n",
        "\n",
        "if p > 0.05:\n",
        "    print('Normal distribution')\n",
        "else:\n",
        "    print('Not a normal distribution')"
      ],
      "execution_count": 26,
      "outputs": [
        {
          "output_type": "stream",
          "text": [
            "stat=0.65, p=0.000000000000000000011566687841\n",
            "Not a normal distribution\n"
          ],
          "name": "stdout"
        }
      ]
    },
    {
      "cell_type": "markdown",
      "metadata": {
        "id": "EOAPkaQZC1-W"
      },
      "source": [
        "Okay From the test above, seems like our guess is true if it is not a normal distribution."
      ]
    },
    {
      "cell_type": "markdown",
      "metadata": {
        "id": "AWwrX0bDETVC"
      },
      "source": [
        "Let us use another test method to compare and validate the test above using K^2 Normality Test"
      ]
    },
    {
      "cell_type": "markdown",
      "metadata": {
        "id": "awmlfZymEbQ9"
      },
      "source": [
        "**Normality test using K^2 Normality Test : tests If data is normally distributed**\n",
        "*   Assumption : Observations are identically distributed"
      ]
    },
    {
      "cell_type": "code",
      "metadata": {
        "colab": {
          "base_uri": "https://localhost:8080/"
        },
        "id": "rUICHSgeCzLX",
        "outputId": "8975500d-01e9-4205-9cd4-afa5cccc3976"
      },
      "source": [
        "# Example of the D'Agostino's K^2 Normality Test\n",
        "from scipy.stats import normaltest\n",
        "DataToTest = additives_df['a']\n",
        "\n",
        "stat, p = normaltest(DataToTest)\n",
        "\n",
        "print('stat=%.10f, p=%.10f' % (stat, p))\n",
        "\n",
        "if p > 0.05:\n",
        "    print('Normal')\n",
        "\n",
        "else:\n",
        "    print('Not a Normal distributed')"
      ],
      "execution_count": 27,
      "outputs": [
        {
          "output_type": "stream",
          "text": [
            "stat=84.3584761624, p=0.0000000000\n",
            "Not a Normal distributed\n"
          ],
          "name": "stdout"
        }
      ]
    },
    {
      "cell_type": "code",
      "metadata": {
        "colab": {
          "base_uri": "https://localhost:8080/"
        },
        "id": "fNqlh048G83_",
        "outputId": "42262a84-464f-4dd6-d510-cad08283d6d2"
      },
      "source": [
        "# Example of the D'Agostino's K^2 Normality Test\n",
        "from scipy.stats import normaltest\n",
        "DataToTest = additives_df['b']\n",
        "\n",
        "stat, p = normaltest(DataToTest)\n",
        "\n",
        "print('stat=%.10f, p=%.10f' % (stat, p))\n",
        "\n",
        "if p > 0.05:\n",
        "    print('Normal')\n",
        "\n",
        "else:\n",
        "    print('Not a Normal distributed')"
      ],
      "execution_count": 28,
      "outputs": [
        {
          "output_type": "stream",
          "text": [
            "stat=27.0151232270, p=0.0000013606\n",
            "Not a Normal distributed\n"
          ],
          "name": "stdout"
        }
      ]
    },
    {
      "cell_type": "code",
      "metadata": {
        "colab": {
          "base_uri": "https://localhost:8080/"
        },
        "id": "DyyN065VHD18",
        "outputId": "d06d9649-78c6-40cf-fa89-bcbb48850bc1"
      },
      "source": [
        "# Example of the D'Agostino's K^2 Normality Test\n",
        "from scipy.stats import normaltest\n",
        "DataToTest = additives_df['c']\n",
        "\n",
        "stat, p = normaltest(DataToTest)\n",
        "\n",
        "print('stat=%.10f, p=%.10f' % (stat, p))\n",
        "\n",
        "if p > 0.05:\n",
        "    print('Normal')\n",
        "\n",
        "else:\n",
        "    print('Not a Normal distributed')"
      ],
      "execution_count": 29,
      "outputs": [
        {
          "output_type": "stream",
          "text": [
            "stat=35.8847018888, p=0.0000000161\n",
            "Not a Normal distributed\n"
          ],
          "name": "stdout"
        }
      ]
    },
    {
      "cell_type": "code",
      "metadata": {
        "colab": {
          "base_uri": "https://localhost:8080/"
        },
        "id": "9Go6NUYMHEDw",
        "outputId": "5330ac3b-b6b7-48d5-8897-4dec14a06c73"
      },
      "source": [
        "# Example of the D'Agostino's K^2 Normality Test\n",
        "from scipy.stats import normaltest\n",
        "DataToTest = additives_df['d']\n",
        "\n",
        "stat, p = normaltest(DataToTest)\n",
        "\n",
        "print('stat=%.10f, p=%.10f' % (stat, p))\n",
        "\n",
        "if p > 0.05:\n",
        "    print('Normal')\n",
        "\n",
        "else:\n",
        "    print('Not a Normal distributed')"
      ],
      "execution_count": 30,
      "outputs": [
        {
          "output_type": "stream",
          "text": [
            "stat=36.7734853144, p=0.0000000103\n",
            "Not a Normal distributed\n"
          ],
          "name": "stdout"
        }
      ]
    },
    {
      "cell_type": "code",
      "metadata": {
        "colab": {
          "base_uri": "https://localhost:8080/"
        },
        "id": "Uxe9YgioHEOr",
        "outputId": "94bc7679-2162-4285-a30e-f50b1743ec2a"
      },
      "source": [
        "# Example of the D'Agostino's K^2 Normality Test\n",
        "from scipy.stats import normaltest\n",
        "DataToTest = additives_df['e']\n",
        "\n",
        "stat, p = normaltest(DataToTest)\n",
        "\n",
        "print('stat=%.10f, p=%.10f' % (stat, p))\n",
        "\n",
        "if p > 0.05:\n",
        "    print('Normal')\n",
        "\n",
        "else:\n",
        "    print('Not a Normal distributed')"
      ],
      "execution_count": 31,
      "outputs": [
        {
          "output_type": "stream",
          "text": [
            "stat=35.8729528583, p=0.0000000162\n",
            "Not a Normal distributed\n"
          ],
          "name": "stdout"
        }
      ]
    },
    {
      "cell_type": "code",
      "metadata": {
        "colab": {
          "base_uri": "https://localhost:8080/"
        },
        "id": "qXqrkjVoHEYd",
        "outputId": "23011ed2-e2af-460b-b198-952a6ea121af"
      },
      "source": [
        "# Example of the D'Agostino's K^2 Normality Test\n",
        "from scipy.stats import normaltest\n",
        "DataToTest = additives_df['f']\n",
        "\n",
        "stat, p = normaltest(DataToTest)\n",
        "\n",
        "print('stat=%.10f, p=%.10f' % (stat, p))\n",
        "\n",
        "if p > 0.05:\n",
        "    print('Normal')\n",
        "\n",
        "else:\n",
        "    print('Not a Normal distributed')"
      ],
      "execution_count": 32,
      "outputs": [
        {
          "output_type": "stream",
          "text": [
            "stat=305.6655371892, p=0.0000000000\n",
            "Not a Normal distributed\n"
          ],
          "name": "stdout"
        }
      ]
    },
    {
      "cell_type": "code",
      "metadata": {
        "colab": {
          "base_uri": "https://localhost:8080/"
        },
        "id": "m3FygxOoHEhk",
        "outputId": "bea5d494-60e8-497f-f719-1250820f9999"
      },
      "source": [
        "# Example of the D'Agostino's K^2 Normality Test\n",
        "from scipy.stats import normaltest\n",
        "DataToTest = additives_df['g']\n",
        "\n",
        "stat, p = normaltest(DataToTest)\n",
        "\n",
        "print('stat=%.10f, p=%.10f' % (stat, p))\n",
        "\n",
        "if p > 0.05:\n",
        "    print('Normal')\n",
        "\n",
        "else:\n",
        "    print('Not a Normal distributed')"
      ],
      "execution_count": 33,
      "outputs": [
        {
          "output_type": "stream",
          "text": [
            "stat=109.4726194409, p=0.0000000000\n",
            "Not a Normal distributed\n"
          ],
          "name": "stdout"
        }
      ]
    },
    {
      "cell_type": "code",
      "metadata": {
        "colab": {
          "base_uri": "https://localhost:8080/"
        },
        "id": "IBZFycAtHEql",
        "outputId": "419d7b42-f978-4ea2-9132-5059775eccf8"
      },
      "source": [
        "# Example of the D'Agostino's K^2 Normality Test\n",
        "from scipy.stats import normaltest\n",
        "DataToTest = additives_df['h']\n",
        "\n",
        "stat, p = normaltest(DataToTest)\n",
        "\n",
        "print('stat=%.10f, p=%.10f' % (stat, p))\n",
        "\n",
        "if p > 0.05:\n",
        "    print('Normal')\n",
        "\n",
        "else:\n",
        "    print('Not a Normal distributed')"
      ],
      "execution_count": 34,
      "outputs": [
        {
          "output_type": "stream",
          "text": [
            "stat=177.2799555777, p=0.0000000000\n",
            "Not a Normal distributed\n"
          ],
          "name": "stdout"
        }
      ]
    },
    {
      "cell_type": "code",
      "metadata": {
        "colab": {
          "base_uri": "https://localhost:8080/"
        },
        "id": "2LlRjtKHHEzN",
        "outputId": "268ea8f9-e34b-40a6-e6c8-2376b6aa7edf"
      },
      "source": [
        "# Example of the D'Agostino's K^2 Normality Test\n",
        "from scipy.stats import normaltest\n",
        "DataToTest = additives_df['i']\n",
        "\n",
        "stat, p = normaltest(DataToTest)\n",
        "\n",
        "print('stat=%.10f, p=%.10f' % (stat, p))\n",
        "\n",
        "if p > 0.05:\n",
        "    print('Normal')\n",
        "\n",
        "else:\n",
        "    print('Not a Normal distributed')"
      ],
      "execution_count": 35,
      "outputs": [
        {
          "output_type": "stream",
          "text": [
            "stat=76.8665206572, p=0.0000000000\n",
            "Not a Normal distributed\n"
          ],
          "name": "stdout"
        }
      ]
    },
    {
      "cell_type": "markdown",
      "metadata": {
        "id": "wzWUvQxAKYnW"
      },
      "source": [
        "Okay From the test above we can conclude overall it doesnt have a normal distributed data."
      ]
    },
    {
      "cell_type": "markdown",
      "metadata": {
        "id": "LVUxRItrLOY0"
      },
      "source": [
        "**Correlation Test - Pearson and Spearman’s Rank Correlation**"
      ]
    },
    {
      "cell_type": "code",
      "metadata": {
        "colab": {
          "base_uri": "https://localhost:8080/",
          "height": 265
        },
        "id": "QfkoyBdyKWhT",
        "outputId": "dc7376fe-b48a-469b-9616-d469b8ff7fd3"
      },
      "source": [
        "FirstSample = additives_df['a']\n",
        "SecondSample = additives_df['g']\n",
        "\n",
        "plt.plot(FirstSample,SecondSample)\n",
        "plt.show()"
      ],
      "execution_count": 36,
      "outputs": [
        {
          "output_type": "display_data",
          "data": {
            "image/png": "[encoded data removed]",
            "text/plain": [
              "<Figure size 432x288 with 1 Axes>"
            ]
          },
          "metadata": {
            "tags": [],
            "needs_background": "light"
          }
        }
      ]
    },
    {
      "cell_type": "code",
      "metadata": {
        "colab": {
          "base_uri": "https://localhost:8080/"
        },
        "id": "zIFPe_GkLvEw",
        "outputId": "fb32f568-2393-4b4e-9666-c7929d040a54"
      },
      "source": [
        "#Spearman Rank Correlation\n",
        "from scipy.stats import spearmanr\n",
        "stat, p = spearmanr(FirstSample, SecondSample)\n",
        "\n",
        "print('stat=%.3f, p=%5f' % (stat, p))\n",
        "if p > 0.05:\n",
        "    print('independent samples')\n",
        "else:\n",
        "    print('dependent samples')"
      ],
      "execution_count": 37,
      "outputs": [
        {
          "output_type": "stream",
          "text": [
            "stat=0.704, p=0.000000\n",
            "dependent samples\n"
          ],
          "name": "stdout"
        }
      ]
    },
    {
      "cell_type": "markdown",
      "metadata": {
        "id": "3_1ihQhQt77g"
      },
      "source": [
        "The statistical test reports a strong positive correlation with a value of 0.704. The p-value is close to zero, which means that the likelihood of observing the data given that the samples are uncorrelated is very unlikely (e.g. 95% confidence) and that we can reject the null hypothesis that the samples are uncorrelated."
      ]
    },
    {
      "cell_type": "code",
      "metadata": {
        "colab": {
          "base_uri": "https://localhost:8080/"
        },
        "id": "PgUWzYOjMEiK",
        "outputId": "604f53a3-a9ca-4ddc-f1bd-f20ad29f2a28"
      },
      "source": [
        "#pearson correlation\n",
        "from scipy.stats import pearsonr\n",
        "stat, p = pearsonr(FirstSample, SecondSample)\n",
        "\n",
        "print('stat=%.3f, p=%5f' % (stat, p))\n",
        "if p > 0.05:\n",
        "    print('independent samples')\n",
        "else:\n",
        "    print('dependent samples')"
      ],
      "execution_count": 38,
      "outputs": [
        {
          "output_type": "stream",
          "text": [
            "stat=0.810, p=0.000000\n",
            "dependent samples\n"
          ],
          "name": "stdout"
        }
      ]
    },
    {
      "cell_type": "markdown",
      "metadata": {
        "id": "YAxBsoeKuo16"
      },
      "source": [
        "The p-value is close to zero (and printed as zero), as with the Spearman’s test, meaning that we can confidently reject the null hypothesis that the samples are uncorrelated."
      ]
    },
    {
      "cell_type": "code",
      "metadata": {
        "colab": {
          "base_uri": "https://localhost:8080/",
          "height": 332
        },
        "id": "x9P8UFyHMHOU",
        "outputId": "0d67a59b-776c-44a5-fd81-184c24b605c7"
      },
      "source": [
        "additives_df.corr(method=\"pearson\")"
      ],
      "execution_count": 39,
      "outputs": [
        {
          "output_type": "execute_result",
          "data": {
            "text/html": [
              "<div>\n",
              "<style scoped>\n",
              "    .dataframe tbody tr th:only-of-type {\n",
              "        vertical-align: middle;\n",
              "    }\n",
              "\n",
              "    .dataframe tbody tr th {\n",
              "        vertical-align: top;\n",
              "    }\n",
              "\n",
              "    .dataframe thead th {\n",
              "        text-align: right;\n",
              "    }\n",
              "</style>\n",
              "<table border=\"1\" class=\"dataframe\">\n",
              "  <thead>\n",
              "    <tr style=\"text-align: right;\">\n",
              "      <th></th>\n",
              "      <th>a</th>\n",
              "      <th>b</th>\n",
              "      <th>c</th>\n",
              "      <th>d</th>\n",
              "      <th>e</th>\n",
              "      <th>f</th>\n",
              "      <th>g</th>\n",
              "      <th>h</th>\n",
              "      <th>i</th>\n",
              "    </tr>\n",
              "  </thead>\n",
              "  <tbody>\n",
              "    <tr>\n",
              "      <th>a</th>\n",
              "      <td>1.000000</td>\n",
              "      <td>-0.191885</td>\n",
              "      <td>-0.122274</td>\n",
              "      <td>-0.407326</td>\n",
              "      <td>-0.542052</td>\n",
              "      <td>-0.289833</td>\n",
              "      <td>0.810403</td>\n",
              "      <td>-0.000386</td>\n",
              "      <td>0.143010</td>\n",
              "    </tr>\n",
              "    <tr>\n",
              "      <th>b</th>\n",
              "      <td>-0.191885</td>\n",
              "      <td>1.000000</td>\n",
              "      <td>-0.273732</td>\n",
              "      <td>0.156794</td>\n",
              "      <td>-0.069809</td>\n",
              "      <td>-0.266087</td>\n",
              "      <td>-0.275442</td>\n",
              "      <td>0.326603</td>\n",
              "      <td>-0.241346</td>\n",
              "    </tr>\n",
              "    <tr>\n",
              "      <th>c</th>\n",
              "      <td>-0.122274</td>\n",
              "      <td>-0.273732</td>\n",
              "      <td>1.000000</td>\n",
              "      <td>-0.481799</td>\n",
              "      <td>-0.165927</td>\n",
              "      <td>0.005396</td>\n",
              "      <td>-0.443750</td>\n",
              "      <td>-0.492262</td>\n",
              "      <td>0.083060</td>\n",
              "    </tr>\n",
              "    <tr>\n",
              "      <th>d</th>\n",
              "      <td>-0.407326</td>\n",
              "      <td>0.156794</td>\n",
              "      <td>-0.481799</td>\n",
              "      <td>1.000000</td>\n",
              "      <td>-0.005524</td>\n",
              "      <td>0.325958</td>\n",
              "      <td>-0.259592</td>\n",
              "      <td>0.479404</td>\n",
              "      <td>-0.074402</td>\n",
              "    </tr>\n",
              "    <tr>\n",
              "      <th>e</th>\n",
              "      <td>-0.542052</td>\n",
              "      <td>-0.069809</td>\n",
              "      <td>-0.165927</td>\n",
              "      <td>-0.005524</td>\n",
              "      <td>1.000000</td>\n",
              "      <td>-0.193331</td>\n",
              "      <td>-0.208732</td>\n",
              "      <td>-0.102151</td>\n",
              "      <td>-0.094201</td>\n",
              "    </tr>\n",
              "    <tr>\n",
              "      <th>f</th>\n",
              "      <td>-0.289833</td>\n",
              "      <td>-0.266087</td>\n",
              "      <td>0.005396</td>\n",
              "      <td>0.325958</td>\n",
              "      <td>-0.193331</td>\n",
              "      <td>1.000000</td>\n",
              "      <td>-0.317836</td>\n",
              "      <td>-0.042618</td>\n",
              "      <td>-0.007719</td>\n",
              "    </tr>\n",
              "    <tr>\n",
              "      <th>g</th>\n",
              "      <td>0.810403</td>\n",
              "      <td>-0.275442</td>\n",
              "      <td>-0.443750</td>\n",
              "      <td>-0.259592</td>\n",
              "      <td>-0.208732</td>\n",
              "      <td>-0.317836</td>\n",
              "      <td>1.000000</td>\n",
              "      <td>-0.112841</td>\n",
              "      <td>0.124968</td>\n",
              "    </tr>\n",
              "    <tr>\n",
              "      <th>h</th>\n",
              "      <td>-0.000386</td>\n",
              "      <td>0.326603</td>\n",
              "      <td>-0.492262</td>\n",
              "      <td>0.479404</td>\n",
              "      <td>-0.102151</td>\n",
              "      <td>-0.042618</td>\n",
              "      <td>-0.112841</td>\n",
              "      <td>1.000000</td>\n",
              "      <td>-0.058692</td>\n",
              "    </tr>\n",
              "    <tr>\n",
              "      <th>i</th>\n",
              "      <td>0.143010</td>\n",
              "      <td>-0.241346</td>\n",
              "      <td>0.083060</td>\n",
              "      <td>-0.074402</td>\n",
              "      <td>-0.094201</td>\n",
              "      <td>-0.007719</td>\n",
              "      <td>0.124968</td>\n",
              "      <td>-0.058692</td>\n",
              "      <td>1.000000</td>\n",
              "    </tr>\n",
              "  </tbody>\n",
              "</table>\n",
              "</div>"
            ],
            "text/plain": [
              "          a         b         c  ...         g         h         i\n",
              "a  1.000000 -0.191885 -0.122274  ...  0.810403 -0.000386  0.143010\n",
              "b -0.191885  1.000000 -0.273732  ... -0.275442  0.326603 -0.241346\n",
              "c -0.122274 -0.273732  1.000000  ... -0.443750 -0.492262  0.083060\n",
              "d -0.407326  0.156794 -0.481799  ... -0.259592  0.479404 -0.074402\n",
              "e -0.542052 -0.069809 -0.165927  ... -0.208732 -0.102151 -0.094201\n",
              "f -0.289833 -0.266087  0.005396  ... -0.317836 -0.042618 -0.007719\n",
              "g  0.810403 -0.275442 -0.443750  ...  1.000000 -0.112841  0.124968\n",
              "h -0.000386  0.326603 -0.492262  ... -0.112841  1.000000 -0.058692\n",
              "i  0.143010 -0.241346  0.083060  ...  0.124968 -0.058692  1.000000\n",
              "\n",
              "[9 rows x 9 columns]"
            ]
          },
          "metadata": {
            "tags": []
          },
          "execution_count": 39
        }
      ]
    },
    {
      "cell_type": "markdown",
      "metadata": {
        "id": "GaQsE4hXu8WY"
      },
      "source": [
        "**Parametic test 1- T**"
      ]
    },
    {
      "cell_type": "code",
      "metadata": {
        "colab": {
          "base_uri": "https://localhost:8080/"
        },
        "id": "NkRN4wOpMdkD",
        "outputId": "9ff53795-089c-49eb-da3f-c49beddfcb6c"
      },
      "source": [
        "#One Sample T-test\n",
        "import scipy\n",
        "scipy.stats.ttest_1samp(additives_df['a'],1.53)"
      ],
      "execution_count": 40,
      "outputs": [
        {
          "output_type": "execute_result",
          "data": {
            "text/plain": [
              "Ttest_1sampResult(statistic=-56.04440591234512, pvalue=1.7850572597438672e-129)"
            ]
          },
          "metadata": {
            "tags": []
          },
          "execution_count": 40
        }
      ]
    },
    {
      "cell_type": "code",
      "metadata": {
        "colab": {
          "base_uri": "https://localhost:8080/"
        },
        "id": "xRLhVyhTwTSN",
        "outputId": "c061fea1-3d30-4164-b2e0-dfba833a2f95"
      },
      "source": [
        "# compare samples\n",
        "stat, p = scipy.stats.ttest_ind(additives_df['a'], additives_df['g'])\n",
        "print('Statistics=%.3f, p=%.3f' % (stat, p))\n",
        "# interpret\n",
        "alpha = 0.05\n",
        "if p > alpha:\n",
        "\tprint('Same distributions (fail to reject H0)')\n",
        "else:\n",
        "\tprint('Different distributions (reject H0)')"
      ],
      "execution_count": 41,
      "outputs": [
        {
          "output_type": "stream",
          "text": [
            "Statistics=-76.462, p=0.000\n",
            "Different distributions (reject H0)\n"
          ],
          "name": "stdout"
        }
      ]
    },
    {
      "cell_type": "markdown",
      "metadata": {
        "id": "HiHrPdy9zZNn"
      },
      "source": [
        "The interpretation of the statistic finds that the sample means are different, with a significance of at least 5%."
      ]
    },
    {
      "cell_type": "code",
      "metadata": {
        "colab": {
          "base_uri": "https://localhost:8080/"
        },
        "id": "Z7wSxMOOxG0B",
        "outputId": "fdfae4aa-519b-4ec9-8b15-154dae2ab4a4"
      },
      "source": [
        "#Independent Sample T-test\n",
        "scipy.stats.ttest_ind(additives_df['a'],additives_df['g'])"
      ],
      "execution_count": 42,
      "outputs": [
        {
          "output_type": "execute_result",
          "data": {
            "text/plain": [
              "Ttest_indResult(statistic=-76.46191990545381, pvalue=6.496271002116892e-251)"
            ]
          },
          "metadata": {
            "tags": []
          },
          "execution_count": 42
        }
      ]
    },
    {
      "cell_type": "code",
      "metadata": {
        "colab": {
          "base_uri": "https://localhost:8080/"
        },
        "id": "0juDhGpdyI5H",
        "outputId": "0399f149-ed67-4cbb-82b0-427cc5ac3eea"
      },
      "source": [
        "print('stat=%.3f, p=%5f' % (stat, p))\n",
        "if p > 0.05:\n",
        "    print('independent samples')\n",
        "else:\n",
        "    print('dependent samples')"
      ],
      "execution_count": 43,
      "outputs": [
        {
          "output_type": "stream",
          "text": [
            "stat=-76.462, p=0.000000\n",
            "dependent samples\n"
          ],
          "name": "stdout"
        }
      ]
    },
    {
      "cell_type": "markdown",
      "metadata": {
        "id": "ep-6sRt5zsjm"
      },
      "source": [
        "Parametic test 2 - Anova - Tests whether the means of two or more independent samples are significantly different."
      ]
    },
    {
      "cell_type": "code",
      "metadata": {
        "colab": {
          "base_uri": "https://localhost:8080/"
        },
        "id": "-Z_eWZbOzIYt",
        "outputId": "9465489e-6334-451c-f813-ea4b6115d585"
      },
      "source": [
        "tstat, p = scipy.stats.f_oneway(additives_df['a'],additives_df['b'],additives_df['g'])\n",
        "print('stat=%.3f, p=%.3f' % (stat, p))\n",
        "if p > 0.05:\n",
        "    print('Same distribution of scores')\n",
        "else:\n",
        "    print('Different distributions of scores')"
      ],
      "execution_count": 44,
      "outputs": [
        {
          "output_type": "stream",
          "text": [
            "stat=-76.462, p=0.000\n",
            "Different distributions of scores\n"
          ],
          "name": "stdout"
        }
      ]
    },
    {
      "cell_type": "markdown",
      "metadata": {
        "id": "ibTwQMJIHX7u"
      },
      "source": [
        "**A graphical analysis of the additives, including a distribution study**"
      ]
    },
    {
      "cell_type": "code",
      "metadata": {
        "colab": {
          "base_uri": "https://localhost:8080/",
          "height": 283
        },
        "id": "9P4B0lf1H_-8",
        "outputId": "09d029d5-391b-4210-992f-1a4319dbbff9"
      },
      "source": [
        "additives_df.plot()"
      ],
      "execution_count": 45,
      "outputs": [
        {
          "output_type": "execute_result",
          "data": {
            "text/plain": [
              "<matplotlib.axes._subplots.AxesSubplot at 0x7f8f912b1e90>"
            ]
          },
          "metadata": {
            "tags": []
          },
          "execution_count": 45
        },
        {
          "output_type": "display_data",
          "data": {
            "image/png": "[encoded data removed]",
            "text/plain": [
              "<Figure size 432x288 with 1 Axes>"
            ]
          },
          "metadata": {
            "tags": [],
            "needs_background": "light"
          }
        }
      ]
    },
    {
      "cell_type": "code",
      "metadata": {
        "colab": {
          "base_uri": "https://localhost:8080/",
          "height": 703
        },
        "id": "7PlaV5b0zsRh",
        "outputId": "c8a3bc56-87ce-4478-c0d6-ee26d8784da5"
      },
      "source": [
        "#check correltion matrix - to check the strength of variation bwtween nine variables\n",
        "correlation_matrix = additives_df.corr().round(2)\n",
        "fgr, ax = plt.subplots(figsize =(24,12)) \n",
        "import seaborn as sns\n",
        "c = sns.heatmap(additives_df)\n",
        "fgr.savefig(\"myimage.png\")"
      ],
      "execution_count": 46,
      "outputs": [
        {
          "output_type": "display_data",
          "data": {
            "image/png": "[encoded data removed]",
            "text/plain": [
              "<Figure size 1728x864 with 2 Axes>"
            ]
          },
          "metadata": {
            "tags": [],
            "needs_background": "light"
          }
        }
      ]
    },
    {
      "cell_type": "markdown",
      "metadata": {
        "id": "57y-eWAcki2W"
      },
      "source": [
        "From The test above we can conclude that variable e have the highest correlation with other variable. it can be seen from the line graph too. it is in the middle of the other line and somehow we can correlate it."
      ]
    },
    {
      "cell_type": "markdown",
      "metadata": {
        "id": "egn3FU64ICcW"
      },
      "source": [
        "**a clustering test of your choice (unsupervised learning), to determine the distinctive number \n",
        "of formulations present in the dataset.**"
      ]
    },
    {
      "cell_type": "markdown",
      "metadata": {
        "id": "Wlcp367Gxm84"
      },
      "source": [
        "# **Feature selection**\n",
        "Lets select our feature set:"
      ]
    },
    {
      "cell_type": "code",
      "metadata": {
        "id": "hKk50FUWINGp"
      },
      "source": [
        "featureset = additives_df[[ 'a', 'b', 'c', 'd', 'e','f', 'g', 'h', 'i']]"
      ],
      "execution_count": 47,
      "outputs": []
    },
    {
      "cell_type": "markdown",
      "metadata": {
        "id": "GKXXklbrxprg"
      },
      "source": [
        "# **Normalization**\n",
        "Now we can normalize the feature set. MinMaxScaler transforms features by scaling each feature to a given range. It is by default (0, 1). That is, this estimator scales and translates each feature individually such that it is between zero and one."
      ]
    },
    {
      "cell_type": "code",
      "metadata": {
        "colab": {
          "base_uri": "https://localhost:8080/"
        },
        "id": "cHv4a_zMxhMR",
        "outputId": "62a9081a-5cee-4eb4-923f-0a8aed6535da"
      },
      "source": [
        "from sklearn.preprocessing import MinMaxScaler\n",
        "x = featureset.values #returns a numpy array\n",
        "min_max_scaler = MinMaxScaler()\n",
        "feature_mtx = min_max_scaler.fit_transform(x)\n",
        "feature_mtx [0:5]"
      ],
      "execution_count": 48,
      "outputs": [
        {
          "output_type": "execute_result",
          "data": {
            "text/plain": [
              "array([[0.27216857, 0.3443609 , 0.78841871, 0.43613707, 0.52142857,\n",
              "        0.08695652, 0.27973978, 0.        , 0.1372549 ],\n",
              "       [0.88235294, 0.        , 0.        , 0.56386293, 0.        ,\n",
              "        0.09339775, 0.73141264, 1.        , 0.54901961],\n",
              "       [0.52019315, 0.38796992, 0.79732739, 0.16510903, 0.38928571,\n",
              "        0.01932367, 0.44052045, 0.        , 0.05882353],\n",
              "       [0.28665496, 0.27518797, 0.78396437, 0.35514019, 0.59642857,\n",
              "        0.09178744, 0.28903346, 0.        , 0.        ],\n",
              "       [0.30640913, 0.40601504, 0.88641425, 0.27725857, 0.47857143,\n",
              "        0.09339775, 0.2527881 , 0.        , 0.        ]])"
            ]
          },
          "metadata": {
            "tags": []
          },
          "execution_count": 48
        }
      ]
    },
    {
      "cell_type": "code",
      "metadata": {
        "id": "vSFNXFFWxkxn"
      },
      "source": [
        "import scipy\n",
        "leng = feature_mtx.shape[0]\n",
        "for i in range(leng):\n",
        "    for j in range(leng):\n",
        "        additives_df[i,j] = scipy.spatial.distance.euclidean(feature_mtx[i], feature_mtx[j])"
      ],
      "execution_count": 49,
      "outputs": []
    },
    {
      "cell_type": "code",
      "metadata": {
        "colab": {
          "base_uri": "https://localhost:8080/",
          "height": 461
        },
        "id": "NAdqTG-DzbGD",
        "outputId": "3a48a0db-1a2b-43f0-d593-e73b10afb3c6"
      },
      "source": [
        "additives_df"
      ],
      "execution_count": 50,
      "outputs": [
        {
          "output_type": "execute_result",
          "data": {
            "text/html": [
              "<div>\n",
              "<style scoped>\n",
              "    .dataframe tbody tr th:only-of-type {\n",
              "        vertical-align: middle;\n",
              "    }\n",
              "\n",
              "    .dataframe tbody tr th {\n",
              "        vertical-align: top;\n",
              "    }\n",
              "\n",
              "    .dataframe thead th {\n",
              "        text-align: right;\n",
              "    }\n",
              "</style>\n",
              "<table border=\"1\" class=\"dataframe\">\n",
              "  <thead>\n",
              "    <tr style=\"text-align: right;\">\n",
              "      <th></th>\n",
              "      <th>a</th>\n",
              "      <th>b</th>\n",
              "      <th>c</th>\n",
              "      <th>d</th>\n",
              "      <th>e</th>\n",
              "      <th>f</th>\n",
              "      <th>g</th>\n",
              "      <th>h</th>\n",
              "      <th>i</th>\n",
              "      <th>(0, 0)</th>\n",
              "      <th>(0, 1)</th>\n",
              "      <th>(0, 2)</th>\n",
              "      <th>(0, 3)</th>\n",
              "      <th>(0, 4)</th>\n",
              "      <th>(0, 5)</th>\n",
              "      <th>(0, 6)</th>\n",
              "      <th>(0, 7)</th>\n",
              "      <th>(0, 8)</th>\n",
              "      <th>(0, 9)</th>\n",
              "      <th>(0, 10)</th>\n",
              "      <th>(0, 11)</th>\n",
              "      <th>(0, 12)</th>\n",
              "      <th>(0, 13)</th>\n",
              "      <th>(0, 14)</th>\n",
              "      <th>(0, 15)</th>\n",
              "      <th>(0, 16)</th>\n",
              "      <th>(0, 17)</th>\n",
              "      <th>(0, 18)</th>\n",
              "      <th>(0, 19)</th>\n",
              "      <th>(0, 20)</th>\n",
              "      <th>(0, 21)</th>\n",
              "      <th>(0, 22)</th>\n",
              "      <th>(0, 23)</th>\n",
              "      <th>(0, 24)</th>\n",
              "      <th>(0, 25)</th>\n",
              "      <th>(0, 26)</th>\n",
              "      <th>(0, 27)</th>\n",
              "      <th>(0, 28)</th>\n",
              "      <th>(0, 29)</th>\n",
              "      <th>(0, 30)</th>\n",
              "      <th>...</th>\n",
              "      <th>(213, 174)</th>\n",
              "      <th>(213, 175)</th>\n",
              "      <th>(213, 176)</th>\n",
              "      <th>(213, 177)</th>\n",
              "      <th>(213, 178)</th>\n",
              "      <th>(213, 179)</th>\n",
              "      <th>(213, 180)</th>\n",
              "      <th>(213, 181)</th>\n",
              "      <th>(213, 182)</th>\n",
              "      <th>(213, 183)</th>\n",
              "      <th>(213, 184)</th>\n",
              "      <th>(213, 185)</th>\n",
              "      <th>(213, 186)</th>\n",
              "      <th>(213, 187)</th>\n",
              "      <th>(213, 188)</th>\n",
              "      <th>(213, 189)</th>\n",
              "      <th>(213, 190)</th>\n",
              "      <th>(213, 191)</th>\n",
              "      <th>(213, 192)</th>\n",
              "      <th>(213, 193)</th>\n",
              "      <th>(213, 194)</th>\n",
              "      <th>(213, 195)</th>\n",
              "      <th>(213, 196)</th>\n",
              "      <th>(213, 197)</th>\n",
              "      <th>(213, 198)</th>\n",
              "      <th>(213, 199)</th>\n",
              "      <th>(213, 200)</th>\n",
              "      <th>(213, 201)</th>\n",
              "      <th>(213, 202)</th>\n",
              "      <th>(213, 203)</th>\n",
              "      <th>(213, 204)</th>\n",
              "      <th>(213, 205)</th>\n",
              "      <th>(213, 206)</th>\n",
              "      <th>(213, 207)</th>\n",
              "      <th>(213, 208)</th>\n",
              "      <th>(213, 209)</th>\n",
              "      <th>(213, 210)</th>\n",
              "      <th>(213, 211)</th>\n",
              "      <th>(213, 212)</th>\n",
              "      <th>(213, 213)</th>\n",
              "    </tr>\n",
              "  </thead>\n",
              "  <tbody>\n",
              "    <tr>\n",
              "      <th>0</th>\n",
              "      <td>1.51735</td>\n",
              "      <td>13.02</td>\n",
              "      <td>3.54</td>\n",
              "      <td>1.69</td>\n",
              "      <td>72.73</td>\n",
              "      <td>0.54</td>\n",
              "      <td>8.44</td>\n",
              "      <td>0.00</td>\n",
              "      <td>0.07</td>\n",
              "      <td>0.0</td>\n",
              "      <td>1.665628</td>\n",
              "      <td>0.437026</td>\n",
              "      <td>0.190128</td>\n",
              "      <td>0.247513</td>\n",
              "      <td>0.187662</td>\n",
              "      <td>0.38433</td>\n",
              "      <td>1.365703</td>\n",
              "      <td>0.241763</td>\n",
              "      <td>0.488067</td>\n",
              "      <td>0.191704</td>\n",
              "      <td>0.144556</td>\n",
              "      <td>0.378344</td>\n",
              "      <td>0.231916</td>\n",
              "      <td>0.449126</td>\n",
              "      <td>1.001315</td>\n",
              "      <td>0.249917</td>\n",
              "      <td>0.548477</td>\n",
              "      <td>0.441119</td>\n",
              "      <td>0.195494</td>\n",
              "      <td>0.201782</td>\n",
              "      <td>0.23741</td>\n",
              "      <td>0.902466</td>\n",
              "      <td>0.441723</td>\n",
              "      <td>1.113896</td>\n",
              "      <td>0.193352</td>\n",
              "      <td>0.176423</td>\n",
              "      <td>0.186228</td>\n",
              "      <td>0.919742</td>\n",
              "      <td>0.511036</td>\n",
              "      <td>0.877909</td>\n",
              "      <td>...</td>\n",
              "      <td>1.415569</td>\n",
              "      <td>1.457825</td>\n",
              "      <td>1.267266</td>\n",
              "      <td>1.421717</td>\n",
              "      <td>1.779746</td>\n",
              "      <td>1.261893</td>\n",
              "      <td>1.463141</td>\n",
              "      <td>1.348159</td>\n",
              "      <td>1.243516</td>\n",
              "      <td>1.613355</td>\n",
              "      <td>1.451013</td>\n",
              "      <td>1.687339</td>\n",
              "      <td>1.415218</td>\n",
              "      <td>1.370454</td>\n",
              "      <td>1.363432</td>\n",
              "      <td>1.398597</td>\n",
              "      <td>1.397752</td>\n",
              "      <td>1.425808</td>\n",
              "      <td>1.138666</td>\n",
              "      <td>1.396297</td>\n",
              "      <td>1.331246</td>\n",
              "      <td>1.314409</td>\n",
              "      <td>1.198723</td>\n",
              "      <td>1.549028</td>\n",
              "      <td>1.407757</td>\n",
              "      <td>1.4638</td>\n",
              "      <td>1.372438</td>\n",
              "      <td>1.350459</td>\n",
              "      <td>1.420136</td>\n",
              "      <td>1.432815</td>\n",
              "      <td>1.377607</td>\n",
              "      <td>1.168417</td>\n",
              "      <td>1.540661</td>\n",
              "      <td>1.30975</td>\n",
              "      <td>1.38064</td>\n",
              "      <td>1.541076</td>\n",
              "      <td>1.548402</td>\n",
              "      <td>1.439768</td>\n",
              "      <td>1.485217</td>\n",
              "      <td>0.0</td>\n",
              "    </tr>\n",
              "    <tr>\n",
              "      <th>1</th>\n",
              "      <td>1.53125</td>\n",
              "      <td>10.73</td>\n",
              "      <td>0.00</td>\n",
              "      <td>2.10</td>\n",
              "      <td>69.81</td>\n",
              "      <td>0.58</td>\n",
              "      <td>13.30</td>\n",
              "      <td>3.15</td>\n",
              "      <td>0.28</td>\n",
              "      <td>0.0</td>\n",
              "      <td>1.665628</td>\n",
              "      <td>0.437026</td>\n",
              "      <td>0.190128</td>\n",
              "      <td>0.247513</td>\n",
              "      <td>0.187662</td>\n",
              "      <td>0.38433</td>\n",
              "      <td>1.365703</td>\n",
              "      <td>0.241763</td>\n",
              "      <td>0.488067</td>\n",
              "      <td>0.191704</td>\n",
              "      <td>0.144556</td>\n",
              "      <td>0.378344</td>\n",
              "      <td>0.231916</td>\n",
              "      <td>0.449126</td>\n",
              "      <td>1.001315</td>\n",
              "      <td>0.249917</td>\n",
              "      <td>0.548477</td>\n",
              "      <td>0.441119</td>\n",
              "      <td>0.195494</td>\n",
              "      <td>0.201782</td>\n",
              "      <td>0.23741</td>\n",
              "      <td>0.902466</td>\n",
              "      <td>0.441723</td>\n",
              "      <td>1.113896</td>\n",
              "      <td>0.193352</td>\n",
              "      <td>0.176423</td>\n",
              "      <td>0.186228</td>\n",
              "      <td>0.919742</td>\n",
              "      <td>0.511036</td>\n",
              "      <td>0.877909</td>\n",
              "      <td>...</td>\n",
              "      <td>1.415569</td>\n",
              "      <td>1.457825</td>\n",
              "      <td>1.267266</td>\n",
              "      <td>1.421717</td>\n",
              "      <td>1.779746</td>\n",
              "      <td>1.261893</td>\n",
              "      <td>1.463141</td>\n",
              "      <td>1.348159</td>\n",
              "      <td>1.243516</td>\n",
              "      <td>1.613355</td>\n",
              "      <td>1.451013</td>\n",
              "      <td>1.687339</td>\n",
              "      <td>1.415218</td>\n",
              "      <td>1.370454</td>\n",
              "      <td>1.363432</td>\n",
              "      <td>1.398597</td>\n",
              "      <td>1.397752</td>\n",
              "      <td>1.425808</td>\n",
              "      <td>1.138666</td>\n",
              "      <td>1.396297</td>\n",
              "      <td>1.331246</td>\n",
              "      <td>1.314409</td>\n",
              "      <td>1.198723</td>\n",
              "      <td>1.549028</td>\n",
              "      <td>1.407757</td>\n",
              "      <td>1.4638</td>\n",
              "      <td>1.372438</td>\n",
              "      <td>1.350459</td>\n",
              "      <td>1.420136</td>\n",
              "      <td>1.432815</td>\n",
              "      <td>1.377607</td>\n",
              "      <td>1.168417</td>\n",
              "      <td>1.540661</td>\n",
              "      <td>1.30975</td>\n",
              "      <td>1.38064</td>\n",
              "      <td>1.541076</td>\n",
              "      <td>1.548402</td>\n",
              "      <td>1.439768</td>\n",
              "      <td>1.485217</td>\n",
              "      <td>0.0</td>\n",
              "    </tr>\n",
              "    <tr>\n",
              "      <th>2</th>\n",
              "      <td>1.52300</td>\n",
              "      <td>13.31</td>\n",
              "      <td>3.58</td>\n",
              "      <td>0.82</td>\n",
              "      <td>71.99</td>\n",
              "      <td>0.12</td>\n",
              "      <td>10.17</td>\n",
              "      <td>0.00</td>\n",
              "      <td>0.03</td>\n",
              "      <td>0.0</td>\n",
              "      <td>1.665628</td>\n",
              "      <td>0.437026</td>\n",
              "      <td>0.190128</td>\n",
              "      <td>0.247513</td>\n",
              "      <td>0.187662</td>\n",
              "      <td>0.38433</td>\n",
              "      <td>1.365703</td>\n",
              "      <td>0.241763</td>\n",
              "      <td>0.488067</td>\n",
              "      <td>0.191704</td>\n",
              "      <td>0.144556</td>\n",
              "      <td>0.378344</td>\n",
              "      <td>0.231916</td>\n",
              "      <td>0.449126</td>\n",
              "      <td>1.001315</td>\n",
              "      <td>0.249917</td>\n",
              "      <td>0.548477</td>\n",
              "      <td>0.441119</td>\n",
              "      <td>0.195494</td>\n",
              "      <td>0.201782</td>\n",
              "      <td>0.23741</td>\n",
              "      <td>0.902466</td>\n",
              "      <td>0.441723</td>\n",
              "      <td>1.113896</td>\n",
              "      <td>0.193352</td>\n",
              "      <td>0.176423</td>\n",
              "      <td>0.186228</td>\n",
              "      <td>0.919742</td>\n",
              "      <td>0.511036</td>\n",
              "      <td>0.877909</td>\n",
              "      <td>...</td>\n",
              "      <td>1.415569</td>\n",
              "      <td>1.457825</td>\n",
              "      <td>1.267266</td>\n",
              "      <td>1.421717</td>\n",
              "      <td>1.779746</td>\n",
              "      <td>1.261893</td>\n",
              "      <td>1.463141</td>\n",
              "      <td>1.348159</td>\n",
              "      <td>1.243516</td>\n",
              "      <td>1.613355</td>\n",
              "      <td>1.451013</td>\n",
              "      <td>1.687339</td>\n",
              "      <td>1.415218</td>\n",
              "      <td>1.370454</td>\n",
              "      <td>1.363432</td>\n",
              "      <td>1.398597</td>\n",
              "      <td>1.397752</td>\n",
              "      <td>1.425808</td>\n",
              "      <td>1.138666</td>\n",
              "      <td>1.396297</td>\n",
              "      <td>1.331246</td>\n",
              "      <td>1.314409</td>\n",
              "      <td>1.198723</td>\n",
              "      <td>1.549028</td>\n",
              "      <td>1.407757</td>\n",
              "      <td>1.4638</td>\n",
              "      <td>1.372438</td>\n",
              "      <td>1.350459</td>\n",
              "      <td>1.420136</td>\n",
              "      <td>1.432815</td>\n",
              "      <td>1.377607</td>\n",
              "      <td>1.168417</td>\n",
              "      <td>1.540661</td>\n",
              "      <td>1.30975</td>\n",
              "      <td>1.38064</td>\n",
              "      <td>1.541076</td>\n",
              "      <td>1.548402</td>\n",
              "      <td>1.439768</td>\n",
              "      <td>1.485217</td>\n",
              "      <td>0.0</td>\n",
              "    </tr>\n",
              "    <tr>\n",
              "      <th>3</th>\n",
              "      <td>1.51768</td>\n",
              "      <td>12.56</td>\n",
              "      <td>3.52</td>\n",
              "      <td>1.43</td>\n",
              "      <td>73.15</td>\n",
              "      <td>0.57</td>\n",
              "      <td>8.54</td>\n",
              "      <td>0.00</td>\n",
              "      <td>0.00</td>\n",
              "      <td>0.0</td>\n",
              "      <td>1.665628</td>\n",
              "      <td>0.437026</td>\n",
              "      <td>0.190128</td>\n",
              "      <td>0.247513</td>\n",
              "      <td>0.187662</td>\n",
              "      <td>0.38433</td>\n",
              "      <td>1.365703</td>\n",
              "      <td>0.241763</td>\n",
              "      <td>0.488067</td>\n",
              "      <td>0.191704</td>\n",
              "      <td>0.144556</td>\n",
              "      <td>0.378344</td>\n",
              "      <td>0.231916</td>\n",
              "      <td>0.449126</td>\n",
              "      <td>1.001315</td>\n",
              "      <td>0.249917</td>\n",
              "      <td>0.548477</td>\n",
              "      <td>0.441119</td>\n",
              "      <td>0.195494</td>\n",
              "      <td>0.201782</td>\n",
              "      <td>0.23741</td>\n",
              "      <td>0.902466</td>\n",
              "      <td>0.441723</td>\n",
              "      <td>1.113896</td>\n",
              "      <td>0.193352</td>\n",
              "      <td>0.176423</td>\n",
              "      <td>0.186228</td>\n",
              "      <td>0.919742</td>\n",
              "      <td>0.511036</td>\n",
              "      <td>0.877909</td>\n",
              "      <td>...</td>\n",
              "      <td>1.415569</td>\n",
              "      <td>1.457825</td>\n",
              "      <td>1.267266</td>\n",
              "      <td>1.421717</td>\n",
              "      <td>1.779746</td>\n",
              "      <td>1.261893</td>\n",
              "      <td>1.463141</td>\n",
              "      <td>1.348159</td>\n",
              "      <td>1.243516</td>\n",
              "      <td>1.613355</td>\n",
              "      <td>1.451013</td>\n",
              "      <td>1.687339</td>\n",
              "      <td>1.415218</td>\n",
              "      <td>1.370454</td>\n",
              "      <td>1.363432</td>\n",
              "      <td>1.398597</td>\n",
              "      <td>1.397752</td>\n",
              "      <td>1.425808</td>\n",
              "      <td>1.138666</td>\n",
              "      <td>1.396297</td>\n",
              "      <td>1.331246</td>\n",
              "      <td>1.314409</td>\n",
              "      <td>1.198723</td>\n",
              "      <td>1.549028</td>\n",
              "      <td>1.407757</td>\n",
              "      <td>1.4638</td>\n",
              "      <td>1.372438</td>\n",
              "      <td>1.350459</td>\n",
              "      <td>1.420136</td>\n",
              "      <td>1.432815</td>\n",
              "      <td>1.377607</td>\n",
              "      <td>1.168417</td>\n",
              "      <td>1.540661</td>\n",
              "      <td>1.30975</td>\n",
              "      <td>1.38064</td>\n",
              "      <td>1.541076</td>\n",
              "      <td>1.548402</td>\n",
              "      <td>1.439768</td>\n",
              "      <td>1.485217</td>\n",
              "      <td>0.0</td>\n",
              "    </tr>\n",
              "    <tr>\n",
              "      <th>4</th>\n",
              "      <td>1.51813</td>\n",
              "      <td>13.43</td>\n",
              "      <td>3.98</td>\n",
              "      <td>1.18</td>\n",
              "      <td>72.49</td>\n",
              "      <td>0.58</td>\n",
              "      <td>8.15</td>\n",
              "      <td>0.00</td>\n",
              "      <td>0.00</td>\n",
              "      <td>0.0</td>\n",
              "      <td>1.665628</td>\n",
              "      <td>0.437026</td>\n",
              "      <td>0.190128</td>\n",
              "      <td>0.247513</td>\n",
              "      <td>0.187662</td>\n",
              "      <td>0.38433</td>\n",
              "      <td>1.365703</td>\n",
              "      <td>0.241763</td>\n",
              "      <td>0.488067</td>\n",
              "      <td>0.191704</td>\n",
              "      <td>0.144556</td>\n",
              "      <td>0.378344</td>\n",
              "      <td>0.231916</td>\n",
              "      <td>0.449126</td>\n",
              "      <td>1.001315</td>\n",
              "      <td>0.249917</td>\n",
              "      <td>0.548477</td>\n",
              "      <td>0.441119</td>\n",
              "      <td>0.195494</td>\n",
              "      <td>0.201782</td>\n",
              "      <td>0.23741</td>\n",
              "      <td>0.902466</td>\n",
              "      <td>0.441723</td>\n",
              "      <td>1.113896</td>\n",
              "      <td>0.193352</td>\n",
              "      <td>0.176423</td>\n",
              "      <td>0.186228</td>\n",
              "      <td>0.919742</td>\n",
              "      <td>0.511036</td>\n",
              "      <td>0.877909</td>\n",
              "      <td>...</td>\n",
              "      <td>1.415569</td>\n",
              "      <td>1.457825</td>\n",
              "      <td>1.267266</td>\n",
              "      <td>1.421717</td>\n",
              "      <td>1.779746</td>\n",
              "      <td>1.261893</td>\n",
              "      <td>1.463141</td>\n",
              "      <td>1.348159</td>\n",
              "      <td>1.243516</td>\n",
              "      <td>1.613355</td>\n",
              "      <td>1.451013</td>\n",
              "      <td>1.687339</td>\n",
              "      <td>1.415218</td>\n",
              "      <td>1.370454</td>\n",
              "      <td>1.363432</td>\n",
              "      <td>1.398597</td>\n",
              "      <td>1.397752</td>\n",
              "      <td>1.425808</td>\n",
              "      <td>1.138666</td>\n",
              "      <td>1.396297</td>\n",
              "      <td>1.331246</td>\n",
              "      <td>1.314409</td>\n",
              "      <td>1.198723</td>\n",
              "      <td>1.549028</td>\n",
              "      <td>1.407757</td>\n",
              "      <td>1.4638</td>\n",
              "      <td>1.372438</td>\n",
              "      <td>1.350459</td>\n",
              "      <td>1.420136</td>\n",
              "      <td>1.432815</td>\n",
              "      <td>1.377607</td>\n",
              "      <td>1.168417</td>\n",
              "      <td>1.540661</td>\n",
              "      <td>1.30975</td>\n",
              "      <td>1.38064</td>\n",
              "      <td>1.541076</td>\n",
              "      <td>1.548402</td>\n",
              "      <td>1.439768</td>\n",
              "      <td>1.485217</td>\n",
              "      <td>0.0</td>\n",
              "    </tr>\n",
              "    <tr>\n",
              "      <th>...</th>\n",
              "      <td>...</td>\n",
              "      <td>...</td>\n",
              "      <td>...</td>\n",
              "      <td>...</td>\n",
              "      <td>...</td>\n",
              "      <td>...</td>\n",
              "      <td>...</td>\n",
              "      <td>...</td>\n",
              "      <td>...</td>\n",
              "      <td>...</td>\n",
              "      <td>...</td>\n",
              "      <td>...</td>\n",
              "      <td>...</td>\n",
              "      <td>...</td>\n",
              "      <td>...</td>\n",
              "      <td>...</td>\n",
              "      <td>...</td>\n",
              "      <td>...</td>\n",
              "      <td>...</td>\n",
              "      <td>...</td>\n",
              "      <td>...</td>\n",
              "      <td>...</td>\n",
              "      <td>...</td>\n",
              "      <td>...</td>\n",
              "      <td>...</td>\n",
              "      <td>...</td>\n",
              "      <td>...</td>\n",
              "      <td>...</td>\n",
              "      <td>...</td>\n",
              "      <td>...</td>\n",
              "      <td>...</td>\n",
              "      <td>...</td>\n",
              "      <td>...</td>\n",
              "      <td>...</td>\n",
              "      <td>...</td>\n",
              "      <td>...</td>\n",
              "      <td>...</td>\n",
              "      <td>...</td>\n",
              "      <td>...</td>\n",
              "      <td>...</td>\n",
              "      <td>...</td>\n",
              "      <td>...</td>\n",
              "      <td>...</td>\n",
              "      <td>...</td>\n",
              "      <td>...</td>\n",
              "      <td>...</td>\n",
              "      <td>...</td>\n",
              "      <td>...</td>\n",
              "      <td>...</td>\n",
              "      <td>...</td>\n",
              "      <td>...</td>\n",
              "      <td>...</td>\n",
              "      <td>...</td>\n",
              "      <td>...</td>\n",
              "      <td>...</td>\n",
              "      <td>...</td>\n",
              "      <td>...</td>\n",
              "      <td>...</td>\n",
              "      <td>...</td>\n",
              "      <td>...</td>\n",
              "      <td>...</td>\n",
              "      <td>...</td>\n",
              "      <td>...</td>\n",
              "      <td>...</td>\n",
              "      <td>...</td>\n",
              "      <td>...</td>\n",
              "      <td>...</td>\n",
              "      <td>...</td>\n",
              "      <td>...</td>\n",
              "      <td>...</td>\n",
              "      <td>...</td>\n",
              "      <td>...</td>\n",
              "      <td>...</td>\n",
              "      <td>...</td>\n",
              "      <td>...</td>\n",
              "      <td>...</td>\n",
              "      <td>...</td>\n",
              "      <td>...</td>\n",
              "      <td>...</td>\n",
              "      <td>...</td>\n",
              "      <td>...</td>\n",
              "    </tr>\n",
              "    <tr>\n",
              "      <th>209</th>\n",
              "      <td>1.52152</td>\n",
              "      <td>13.12</td>\n",
              "      <td>3.58</td>\n",
              "      <td>0.90</td>\n",
              "      <td>72.20</td>\n",
              "      <td>0.23</td>\n",
              "      <td>9.82</td>\n",
              "      <td>0.00</td>\n",
              "      <td>0.16</td>\n",
              "      <td>0.0</td>\n",
              "      <td>1.665628</td>\n",
              "      <td>0.437026</td>\n",
              "      <td>0.190128</td>\n",
              "      <td>0.247513</td>\n",
              "      <td>0.187662</td>\n",
              "      <td>0.38433</td>\n",
              "      <td>1.365703</td>\n",
              "      <td>0.241763</td>\n",
              "      <td>0.488067</td>\n",
              "      <td>0.191704</td>\n",
              "      <td>0.144556</td>\n",
              "      <td>0.378344</td>\n",
              "      <td>0.231916</td>\n",
              "      <td>0.449126</td>\n",
              "      <td>1.001315</td>\n",
              "      <td>0.249917</td>\n",
              "      <td>0.548477</td>\n",
              "      <td>0.441119</td>\n",
              "      <td>0.195494</td>\n",
              "      <td>0.201782</td>\n",
              "      <td>0.23741</td>\n",
              "      <td>0.902466</td>\n",
              "      <td>0.441723</td>\n",
              "      <td>1.113896</td>\n",
              "      <td>0.193352</td>\n",
              "      <td>0.176423</td>\n",
              "      <td>0.186228</td>\n",
              "      <td>0.919742</td>\n",
              "      <td>0.511036</td>\n",
              "      <td>0.877909</td>\n",
              "      <td>...</td>\n",
              "      <td>1.415569</td>\n",
              "      <td>1.457825</td>\n",
              "      <td>1.267266</td>\n",
              "      <td>1.421717</td>\n",
              "      <td>1.779746</td>\n",
              "      <td>1.261893</td>\n",
              "      <td>1.463141</td>\n",
              "      <td>1.348159</td>\n",
              "      <td>1.243516</td>\n",
              "      <td>1.613355</td>\n",
              "      <td>1.451013</td>\n",
              "      <td>1.687339</td>\n",
              "      <td>1.415218</td>\n",
              "      <td>1.370454</td>\n",
              "      <td>1.363432</td>\n",
              "      <td>1.398597</td>\n",
              "      <td>1.397752</td>\n",
              "      <td>1.425808</td>\n",
              "      <td>1.138666</td>\n",
              "      <td>1.396297</td>\n",
              "      <td>1.331246</td>\n",
              "      <td>1.314409</td>\n",
              "      <td>1.198723</td>\n",
              "      <td>1.549028</td>\n",
              "      <td>1.407757</td>\n",
              "      <td>1.4638</td>\n",
              "      <td>1.372438</td>\n",
              "      <td>1.350459</td>\n",
              "      <td>1.420136</td>\n",
              "      <td>1.432815</td>\n",
              "      <td>1.377607</td>\n",
              "      <td>1.168417</td>\n",
              "      <td>1.540661</td>\n",
              "      <td>1.30975</td>\n",
              "      <td>1.38064</td>\n",
              "      <td>1.541076</td>\n",
              "      <td>1.548402</td>\n",
              "      <td>1.439768</td>\n",
              "      <td>1.485217</td>\n",
              "      <td>0.0</td>\n",
              "    </tr>\n",
              "    <tr>\n",
              "      <th>210</th>\n",
              "      <td>1.51848</td>\n",
              "      <td>13.64</td>\n",
              "      <td>3.87</td>\n",
              "      <td>1.27</td>\n",
              "      <td>71.96</td>\n",
              "      <td>0.54</td>\n",
              "      <td>8.32</td>\n",
              "      <td>0.00</td>\n",
              "      <td>0.32</td>\n",
              "      <td>0.0</td>\n",
              "      <td>1.665628</td>\n",
              "      <td>0.437026</td>\n",
              "      <td>0.190128</td>\n",
              "      <td>0.247513</td>\n",
              "      <td>0.187662</td>\n",
              "      <td>0.38433</td>\n",
              "      <td>1.365703</td>\n",
              "      <td>0.241763</td>\n",
              "      <td>0.488067</td>\n",
              "      <td>0.191704</td>\n",
              "      <td>0.144556</td>\n",
              "      <td>0.378344</td>\n",
              "      <td>0.231916</td>\n",
              "      <td>0.449126</td>\n",
              "      <td>1.001315</td>\n",
              "      <td>0.249917</td>\n",
              "      <td>0.548477</td>\n",
              "      <td>0.441119</td>\n",
              "      <td>0.195494</td>\n",
              "      <td>0.201782</td>\n",
              "      <td>0.23741</td>\n",
              "      <td>0.902466</td>\n",
              "      <td>0.441723</td>\n",
              "      <td>1.113896</td>\n",
              "      <td>0.193352</td>\n",
              "      <td>0.176423</td>\n",
              "      <td>0.186228</td>\n",
              "      <td>0.919742</td>\n",
              "      <td>0.511036</td>\n",
              "      <td>0.877909</td>\n",
              "      <td>...</td>\n",
              "      <td>1.415569</td>\n",
              "      <td>1.457825</td>\n",
              "      <td>1.267266</td>\n",
              "      <td>1.421717</td>\n",
              "      <td>1.779746</td>\n",
              "      <td>1.261893</td>\n",
              "      <td>1.463141</td>\n",
              "      <td>1.348159</td>\n",
              "      <td>1.243516</td>\n",
              "      <td>1.613355</td>\n",
              "      <td>1.451013</td>\n",
              "      <td>1.687339</td>\n",
              "      <td>1.415218</td>\n",
              "      <td>1.370454</td>\n",
              "      <td>1.363432</td>\n",
              "      <td>1.398597</td>\n",
              "      <td>1.397752</td>\n",
              "      <td>1.425808</td>\n",
              "      <td>1.138666</td>\n",
              "      <td>1.396297</td>\n",
              "      <td>1.331246</td>\n",
              "      <td>1.314409</td>\n",
              "      <td>1.198723</td>\n",
              "      <td>1.549028</td>\n",
              "      <td>1.407757</td>\n",
              "      <td>1.4638</td>\n",
              "      <td>1.372438</td>\n",
              "      <td>1.350459</td>\n",
              "      <td>1.420136</td>\n",
              "      <td>1.432815</td>\n",
              "      <td>1.377607</td>\n",
              "      <td>1.168417</td>\n",
              "      <td>1.540661</td>\n",
              "      <td>1.30975</td>\n",
              "      <td>1.38064</td>\n",
              "      <td>1.541076</td>\n",
              "      <td>1.548402</td>\n",
              "      <td>1.439768</td>\n",
              "      <td>1.485217</td>\n",
              "      <td>0.0</td>\n",
              "    </tr>\n",
              "    <tr>\n",
              "      <th>211</th>\n",
              "      <td>1.51784</td>\n",
              "      <td>12.68</td>\n",
              "      <td>3.67</td>\n",
              "      <td>1.16</td>\n",
              "      <td>73.11</td>\n",
              "      <td>0.61</td>\n",
              "      <td>8.70</td>\n",
              "      <td>0.00</td>\n",
              "      <td>0.00</td>\n",
              "      <td>0.0</td>\n",
              "      <td>1.665628</td>\n",
              "      <td>0.437026</td>\n",
              "      <td>0.190128</td>\n",
              "      <td>0.247513</td>\n",
              "      <td>0.187662</td>\n",
              "      <td>0.38433</td>\n",
              "      <td>1.365703</td>\n",
              "      <td>0.241763</td>\n",
              "      <td>0.488067</td>\n",
              "      <td>0.191704</td>\n",
              "      <td>0.144556</td>\n",
              "      <td>0.378344</td>\n",
              "      <td>0.231916</td>\n",
              "      <td>0.449126</td>\n",
              "      <td>1.001315</td>\n",
              "      <td>0.249917</td>\n",
              "      <td>0.548477</td>\n",
              "      <td>0.441119</td>\n",
              "      <td>0.195494</td>\n",
              "      <td>0.201782</td>\n",
              "      <td>0.23741</td>\n",
              "      <td>0.902466</td>\n",
              "      <td>0.441723</td>\n",
              "      <td>1.113896</td>\n",
              "      <td>0.193352</td>\n",
              "      <td>0.176423</td>\n",
              "      <td>0.186228</td>\n",
              "      <td>0.919742</td>\n",
              "      <td>0.511036</td>\n",
              "      <td>0.877909</td>\n",
              "      <td>...</td>\n",
              "      <td>1.415569</td>\n",
              "      <td>1.457825</td>\n",
              "      <td>1.267266</td>\n",
              "      <td>1.421717</td>\n",
              "      <td>1.779746</td>\n",
              "      <td>1.261893</td>\n",
              "      <td>1.463141</td>\n",
              "      <td>1.348159</td>\n",
              "      <td>1.243516</td>\n",
              "      <td>1.613355</td>\n",
              "      <td>1.451013</td>\n",
              "      <td>1.687339</td>\n",
              "      <td>1.415218</td>\n",
              "      <td>1.370454</td>\n",
              "      <td>1.363432</td>\n",
              "      <td>1.398597</td>\n",
              "      <td>1.397752</td>\n",
              "      <td>1.425808</td>\n",
              "      <td>1.138666</td>\n",
              "      <td>1.396297</td>\n",
              "      <td>1.331246</td>\n",
              "      <td>1.314409</td>\n",
              "      <td>1.198723</td>\n",
              "      <td>1.549028</td>\n",
              "      <td>1.407757</td>\n",
              "      <td>1.4638</td>\n",
              "      <td>1.372438</td>\n",
              "      <td>1.350459</td>\n",
              "      <td>1.420136</td>\n",
              "      <td>1.432815</td>\n",
              "      <td>1.377607</td>\n",
              "      <td>1.168417</td>\n",
              "      <td>1.540661</td>\n",
              "      <td>1.30975</td>\n",
              "      <td>1.38064</td>\n",
              "      <td>1.541076</td>\n",
              "      <td>1.548402</td>\n",
              "      <td>1.439768</td>\n",
              "      <td>1.485217</td>\n",
              "      <td>0.0</td>\n",
              "    </tr>\n",
              "    <tr>\n",
              "      <th>212</th>\n",
              "      <td>1.51841</td>\n",
              "      <td>12.93</td>\n",
              "      <td>3.74</td>\n",
              "      <td>1.11</td>\n",
              "      <td>72.28</td>\n",
              "      <td>0.64</td>\n",
              "      <td>8.96</td>\n",
              "      <td>0.00</td>\n",
              "      <td>0.22</td>\n",
              "      <td>0.0</td>\n",
              "      <td>1.665628</td>\n",
              "      <td>0.437026</td>\n",
              "      <td>0.190128</td>\n",
              "      <td>0.247513</td>\n",
              "      <td>0.187662</td>\n",
              "      <td>0.38433</td>\n",
              "      <td>1.365703</td>\n",
              "      <td>0.241763</td>\n",
              "      <td>0.488067</td>\n",
              "      <td>0.191704</td>\n",
              "      <td>0.144556</td>\n",
              "      <td>0.378344</td>\n",
              "      <td>0.231916</td>\n",
              "      <td>0.449126</td>\n",
              "      <td>1.001315</td>\n",
              "      <td>0.249917</td>\n",
              "      <td>0.548477</td>\n",
              "      <td>0.441119</td>\n",
              "      <td>0.195494</td>\n",
              "      <td>0.201782</td>\n",
              "      <td>0.23741</td>\n",
              "      <td>0.902466</td>\n",
              "      <td>0.441723</td>\n",
              "      <td>1.113896</td>\n",
              "      <td>0.193352</td>\n",
              "      <td>0.176423</td>\n",
              "      <td>0.186228</td>\n",
              "      <td>0.919742</td>\n",
              "      <td>0.511036</td>\n",
              "      <td>0.877909</td>\n",
              "      <td>...</td>\n",
              "      <td>1.415569</td>\n",
              "      <td>1.457825</td>\n",
              "      <td>1.267266</td>\n",
              "      <td>1.421717</td>\n",
              "      <td>1.779746</td>\n",
              "      <td>1.261893</td>\n",
              "      <td>1.463141</td>\n",
              "      <td>1.348159</td>\n",
              "      <td>1.243516</td>\n",
              "      <td>1.613355</td>\n",
              "      <td>1.451013</td>\n",
              "      <td>1.687339</td>\n",
              "      <td>1.415218</td>\n",
              "      <td>1.370454</td>\n",
              "      <td>1.363432</td>\n",
              "      <td>1.398597</td>\n",
              "      <td>1.397752</td>\n",
              "      <td>1.425808</td>\n",
              "      <td>1.138666</td>\n",
              "      <td>1.396297</td>\n",
              "      <td>1.331246</td>\n",
              "      <td>1.314409</td>\n",
              "      <td>1.198723</td>\n",
              "      <td>1.549028</td>\n",
              "      <td>1.407757</td>\n",
              "      <td>1.4638</td>\n",
              "      <td>1.372438</td>\n",
              "      <td>1.350459</td>\n",
              "      <td>1.420136</td>\n",
              "      <td>1.432815</td>\n",
              "      <td>1.377607</td>\n",
              "      <td>1.168417</td>\n",
              "      <td>1.540661</td>\n",
              "      <td>1.30975</td>\n",
              "      <td>1.38064</td>\n",
              "      <td>1.541076</td>\n",
              "      <td>1.548402</td>\n",
              "      <td>1.439768</td>\n",
              "      <td>1.485217</td>\n",
              "      <td>0.0</td>\n",
              "    </tr>\n",
              "    <tr>\n",
              "      <th>213</th>\n",
              "      <td>1.51321</td>\n",
              "      <td>13.00</td>\n",
              "      <td>0.00</td>\n",
              "      <td>3.02</td>\n",
              "      <td>70.70</td>\n",
              "      <td>6.21</td>\n",
              "      <td>6.93</td>\n",
              "      <td>0.00</td>\n",
              "      <td>0.00</td>\n",
              "      <td>0.0</td>\n",
              "      <td>1.665628</td>\n",
              "      <td>0.437026</td>\n",
              "      <td>0.190128</td>\n",
              "      <td>0.247513</td>\n",
              "      <td>0.187662</td>\n",
              "      <td>0.38433</td>\n",
              "      <td>1.365703</td>\n",
              "      <td>0.241763</td>\n",
              "      <td>0.488067</td>\n",
              "      <td>0.191704</td>\n",
              "      <td>0.144556</td>\n",
              "      <td>0.378344</td>\n",
              "      <td>0.231916</td>\n",
              "      <td>0.449126</td>\n",
              "      <td>1.001315</td>\n",
              "      <td>0.249917</td>\n",
              "      <td>0.548477</td>\n",
              "      <td>0.441119</td>\n",
              "      <td>0.195494</td>\n",
              "      <td>0.201782</td>\n",
              "      <td>0.23741</td>\n",
              "      <td>0.902466</td>\n",
              "      <td>0.441723</td>\n",
              "      <td>1.113896</td>\n",
              "      <td>0.193352</td>\n",
              "      <td>0.176423</td>\n",
              "      <td>0.186228</td>\n",
              "      <td>0.919742</td>\n",
              "      <td>0.511036</td>\n",
              "      <td>0.877909</td>\n",
              "      <td>...</td>\n",
              "      <td>1.415569</td>\n",
              "      <td>1.457825</td>\n",
              "      <td>1.267266</td>\n",
              "      <td>1.421717</td>\n",
              "      <td>1.779746</td>\n",
              "      <td>1.261893</td>\n",
              "      <td>1.463141</td>\n",
              "      <td>1.348159</td>\n",
              "      <td>1.243516</td>\n",
              "      <td>1.613355</td>\n",
              "      <td>1.451013</td>\n",
              "      <td>1.687339</td>\n",
              "      <td>1.415218</td>\n",
              "      <td>1.370454</td>\n",
              "      <td>1.363432</td>\n",
              "      <td>1.398597</td>\n",
              "      <td>1.397752</td>\n",
              "      <td>1.425808</td>\n",
              "      <td>1.138666</td>\n",
              "      <td>1.396297</td>\n",
              "      <td>1.331246</td>\n",
              "      <td>1.314409</td>\n",
              "      <td>1.198723</td>\n",
              "      <td>1.549028</td>\n",
              "      <td>1.407757</td>\n",
              "      <td>1.4638</td>\n",
              "      <td>1.372438</td>\n",
              "      <td>1.350459</td>\n",
              "      <td>1.420136</td>\n",
              "      <td>1.432815</td>\n",
              "      <td>1.377607</td>\n",
              "      <td>1.168417</td>\n",
              "      <td>1.540661</td>\n",
              "      <td>1.30975</td>\n",
              "      <td>1.38064</td>\n",
              "      <td>1.541076</td>\n",
              "      <td>1.548402</td>\n",
              "      <td>1.439768</td>\n",
              "      <td>1.485217</td>\n",
              "      <td>0.0</td>\n",
              "    </tr>\n",
              "  </tbody>\n",
              "</table>\n",
              "<p>214 rows × 45805 columns</p>\n",
              "</div>"
            ],
            "text/plain": [
              "           a      b     c     d  ...  (213, 210)  (213, 211)  (213, 212)  (213, 213)\n",
              "0    1.51735  13.02  3.54  1.69  ...    1.548402    1.439768    1.485217         0.0\n",
              "1    1.53125  10.73  0.00  2.10  ...    1.548402    1.439768    1.485217         0.0\n",
              "2    1.52300  13.31  3.58  0.82  ...    1.548402    1.439768    1.485217         0.0\n",
              "3    1.51768  12.56  3.52  1.43  ...    1.548402    1.439768    1.485217         0.0\n",
              "4    1.51813  13.43  3.98  1.18  ...    1.548402    1.439768    1.485217         0.0\n",
              "..       ...    ...   ...   ...  ...         ...         ...         ...         ...\n",
              "209  1.52152  13.12  3.58  0.90  ...    1.548402    1.439768    1.485217         0.0\n",
              "210  1.51848  13.64  3.87  1.27  ...    1.548402    1.439768    1.485217         0.0\n",
              "211  1.51784  12.68  3.67  1.16  ...    1.548402    1.439768    1.485217         0.0\n",
              "212  1.51841  12.93  3.74  1.11  ...    1.548402    1.439768    1.485217         0.0\n",
              "213  1.51321  13.00  0.00  3.02  ...    1.548402    1.439768    1.485217         0.0\n",
              "\n",
              "[214 rows x 45805 columns]"
            ]
          },
          "metadata": {
            "tags": []
          },
          "execution_count": 50
        }
      ]
    },
    {
      "cell_type": "code",
      "metadata": {
        "id": "8R9wFR9dyVg4"
      },
      "source": [
        "#import pylab\n",
        "#import scipy.cluster.hierarchy\n",
        "#Z = scipy.cluster.hierarchy.linkage(additives_df, 'complete')"
      ],
      "execution_count": 51,
      "outputs": []
    },
    {
      "cell_type": "code",
      "metadata": {
        "id": "E-GkPtwZyKSC"
      },
      "source": [
        "#from scipy.cluster.hierarchy import fcluster\n",
        "#max_d = 3\n",
        "#clusters = fcluster(Z, max_d, criterion='distance')\n",
        "#clusters"
      ],
      "execution_count": 52,
      "outputs": []
    },
    {
      "cell_type": "code",
      "metadata": {
        "id": "z2ZrWUlL0bDx"
      },
      "source": [
        "#from scipy.cluster.hierarchy import fcluster\n",
        "#k = 5\n",
        "#clusters = fcluster(Z, k, criterion='maxclust')\n",
        "#clusters\n"
      ],
      "execution_count": 53,
      "outputs": []
    },
    {
      "cell_type": "code",
      "metadata": {
        "id": "fJMYIGDM0e-m"
      },
      "source": [
        "#fig = pylab.figure(figsize=(18,50))\n",
        "#def llf(id):\n",
        "#    return '[%s %s %s]' % (additives_df['a'][id], additives_df['b'][id], int(float(additives_df['c'][id])) )\n",
        "    \n",
        "#dendro = scipy.cluster.hierarchy.dendrogram(Z,  leaf_label_func=llf, leaf_rotation=0, leaf_font_size =12, orientation = 'right')"
      ],
      "execution_count": 54,
      "outputs": []
    },
    {
      "cell_type": "code",
      "metadata": {
        "colab": {
          "base_uri": "https://localhost:8080/"
        },
        "id": "gWVLSD680u6N",
        "outputId": "207b8ede-b2ed-45f4-ba86-674c723cf37b"
      },
      "source": [
        "from scipy import ndimage \n",
        "from scipy.cluster import hierarchy \n",
        "from scipy.spatial import distance_matrix \n",
        "from matplotlib import pyplot as plt \n",
        "from sklearn import manifold, datasets \n",
        "from sklearn.cluster import AgglomerativeClustering \n",
        "from sklearn.datasets.samples_generator import make_blobs \n",
        "dist_matrix = distance_matrix(feature_mtx,feature_mtx) \n",
        "print(dist_matrix)"
      ],
      "execution_count": 55,
      "outputs": [
        {
          "output_type": "stream",
          "text": [
            "[[0.         1.66562755 0.43702556 ... 0.23522428 0.36405631 1.35273753]\n",
            " [1.66562755 0.         1.59948642 ... 1.73719311 1.60849615 1.82342729]\n",
            " [0.43702556 1.59948642 0.         ... 0.37450626 0.46306394 1.54959262]\n",
            " ...\n",
            " [0.23522428 1.73719311 0.37450626 ... 0.         0.45954548 1.43976758]\n",
            " [0.36405631 1.60849615 0.46306394 ... 0.45954548 0.         1.48521711]\n",
            " [1.35273753 1.82342729 1.54959262 ... 1.43976758 1.48521711 0.        ]]\n"
          ],
          "name": "stdout"
        },
        {
          "output_type": "stream",
          "text": [
            "/usr/local/lib/python3.7/dist-packages/sklearn/utils/deprecation.py:144: FutureWarning: The sklearn.datasets.samples_generator module is  deprecated in version 0.22 and will be removed in version 0.24. The corresponding classes / functions should instead be imported from sklearn.datasets. Anything that cannot be imported from sklearn.datasets is now part of the private API.\n",
            "  warnings.warn(message, FutureWarning)\n"
          ],
          "name": "stderr"
        }
      ]
    },
    {
      "cell_type": "code",
      "metadata": {
        "colab": {
          "base_uri": "https://localhost:8080/"
        },
        "id": "BWxTo6yw1ESt",
        "outputId": "43c3918e-5429-4df0-fbf3-49e0692853eb"
      },
      "source": [
        "agglom = AgglomerativeClustering(n_clusters = 6, linkage = 'complete')\n",
        "agglom.fit(feature_mtx)\n",
        "agglom.labels_"
      ],
      "execution_count": 56,
      "outputs": [
        {
          "output_type": "execute_result",
          "data": {
            "text/plain": [
              "array([5, 1, 5, 5, 5, 5, 2, 0, 5, 5, 5, 5, 5, 5, 2, 2, 5, 5, 5, 5, 5, 5,\n",
              "       0, 5, 0, 5, 5, 5, 4, 5, 4, 5, 0, 5, 5, 5, 5, 5, 5, 5, 2, 4, 4, 5,\n",
              "       4, 5, 0, 5, 0, 0, 5, 5, 5, 2, 2, 5, 5, 0, 5, 0, 5, 5, 5, 5, 2, 5,\n",
              "       4, 2, 2, 0, 2, 0, 2, 2, 2, 5, 5, 5, 5, 5, 5, 5, 5, 5, 0, 5, 5, 5,\n",
              "       5, 5, 5, 5, 5, 2, 5, 2, 5, 5, 2, 0, 5, 2, 5, 0, 5, 5, 5, 5, 2, 5,\n",
              "       5, 5, 2, 5, 0, 0, 5, 5, 5, 4, 5, 4, 5, 5, 2, 5, 1, 5, 5, 5, 5, 5,\n",
              "       5, 0, 5, 0, 5, 5, 5, 2, 5, 0, 5, 5, 4, 5, 4, 4, 5, 2, 5, 5, 5, 5,\n",
              "       5, 5, 4, 5, 2, 0, 5, 5, 2, 5, 0, 0, 5, 5, 5, 4, 5, 0, 5, 5, 5, 5,\n",
              "       5, 5, 1, 4, 2, 0, 5, 5, 5, 3, 2, 5, 5, 5, 5, 5, 0, 5, 0, 5, 4, 5,\n",
              "       5, 5, 5, 4, 2, 5, 5, 4, 5, 5, 5, 5, 2, 5, 2, 0])"
            ]
          },
          "metadata": {
            "tags": []
          },
          "execution_count": 56
        }
      ]
    },
    {
      "cell_type": "code",
      "metadata": {
        "colab": {
          "base_uri": "https://localhost:8080/",
          "height": 273
        },
        "id": "LH3EqlLIHtpN",
        "outputId": "7574a37a-4dde-4cfc-a31c-6ed264cab889"
      },
      "source": [
        "additives_df['cluster_'] = agglom.labels_\n",
        "additives_df.head()"
      ],
      "execution_count": 57,
      "outputs": [
        {
          "output_type": "execute_result",
          "data": {
            "text/html": [
              "<div>\n",
              "<style scoped>\n",
              "    .dataframe tbody tr th:only-of-type {\n",
              "        vertical-align: middle;\n",
              "    }\n",
              "\n",
              "    .dataframe tbody tr th {\n",
              "        vertical-align: top;\n",
              "    }\n",
              "\n",
              "    .dataframe thead th {\n",
              "        text-align: right;\n",
              "    }\n",
              "</style>\n",
              "<table border=\"1\" class=\"dataframe\">\n",
              "  <thead>\n",
              "    <tr style=\"text-align: right;\">\n",
              "      <th></th>\n",
              "      <th>a</th>\n",
              "      <th>b</th>\n",
              "      <th>c</th>\n",
              "      <th>d</th>\n",
              "      <th>e</th>\n",
              "      <th>f</th>\n",
              "      <th>g</th>\n",
              "      <th>h</th>\n",
              "      <th>i</th>\n",
              "      <th>(0, 0)</th>\n",
              "      <th>(0, 1)</th>\n",
              "      <th>(0, 2)</th>\n",
              "      <th>(0, 3)</th>\n",
              "      <th>(0, 4)</th>\n",
              "      <th>(0, 5)</th>\n",
              "      <th>(0, 6)</th>\n",
              "      <th>(0, 7)</th>\n",
              "      <th>(0, 8)</th>\n",
              "      <th>(0, 9)</th>\n",
              "      <th>(0, 10)</th>\n",
              "      <th>(0, 11)</th>\n",
              "      <th>(0, 12)</th>\n",
              "      <th>(0, 13)</th>\n",
              "      <th>(0, 14)</th>\n",
              "      <th>(0, 15)</th>\n",
              "      <th>(0, 16)</th>\n",
              "      <th>(0, 17)</th>\n",
              "      <th>(0, 18)</th>\n",
              "      <th>(0, 19)</th>\n",
              "      <th>(0, 20)</th>\n",
              "      <th>(0, 21)</th>\n",
              "      <th>(0, 22)</th>\n",
              "      <th>(0, 23)</th>\n",
              "      <th>(0, 24)</th>\n",
              "      <th>(0, 25)</th>\n",
              "      <th>(0, 26)</th>\n",
              "      <th>(0, 27)</th>\n",
              "      <th>(0, 28)</th>\n",
              "      <th>(0, 29)</th>\n",
              "      <th>(0, 30)</th>\n",
              "      <th>...</th>\n",
              "      <th>(213, 175)</th>\n",
              "      <th>(213, 176)</th>\n",
              "      <th>(213, 177)</th>\n",
              "      <th>(213, 178)</th>\n",
              "      <th>(213, 179)</th>\n",
              "      <th>(213, 180)</th>\n",
              "      <th>(213, 181)</th>\n",
              "      <th>(213, 182)</th>\n",
              "      <th>(213, 183)</th>\n",
              "      <th>(213, 184)</th>\n",
              "      <th>(213, 185)</th>\n",
              "      <th>(213, 186)</th>\n",
              "      <th>(213, 187)</th>\n",
              "      <th>(213, 188)</th>\n",
              "      <th>(213, 189)</th>\n",
              "      <th>(213, 190)</th>\n",
              "      <th>(213, 191)</th>\n",
              "      <th>(213, 192)</th>\n",
              "      <th>(213, 193)</th>\n",
              "      <th>(213, 194)</th>\n",
              "      <th>(213, 195)</th>\n",
              "      <th>(213, 196)</th>\n",
              "      <th>(213, 197)</th>\n",
              "      <th>(213, 198)</th>\n",
              "      <th>(213, 199)</th>\n",
              "      <th>(213, 200)</th>\n",
              "      <th>(213, 201)</th>\n",
              "      <th>(213, 202)</th>\n",
              "      <th>(213, 203)</th>\n",
              "      <th>(213, 204)</th>\n",
              "      <th>(213, 205)</th>\n",
              "      <th>(213, 206)</th>\n",
              "      <th>(213, 207)</th>\n",
              "      <th>(213, 208)</th>\n",
              "      <th>(213, 209)</th>\n",
              "      <th>(213, 210)</th>\n",
              "      <th>(213, 211)</th>\n",
              "      <th>(213, 212)</th>\n",
              "      <th>(213, 213)</th>\n",
              "      <th>cluster_</th>\n",
              "    </tr>\n",
              "  </thead>\n",
              "  <tbody>\n",
              "    <tr>\n",
              "      <th>0</th>\n",
              "      <td>1.51735</td>\n",
              "      <td>13.02</td>\n",
              "      <td>3.54</td>\n",
              "      <td>1.69</td>\n",
              "      <td>72.73</td>\n",
              "      <td>0.54</td>\n",
              "      <td>8.44</td>\n",
              "      <td>0.00</td>\n",
              "      <td>0.07</td>\n",
              "      <td>0.0</td>\n",
              "      <td>1.665628</td>\n",
              "      <td>0.437026</td>\n",
              "      <td>0.190128</td>\n",
              "      <td>0.247513</td>\n",
              "      <td>0.187662</td>\n",
              "      <td>0.38433</td>\n",
              "      <td>1.365703</td>\n",
              "      <td>0.241763</td>\n",
              "      <td>0.488067</td>\n",
              "      <td>0.191704</td>\n",
              "      <td>0.144556</td>\n",
              "      <td>0.378344</td>\n",
              "      <td>0.231916</td>\n",
              "      <td>0.449126</td>\n",
              "      <td>1.001315</td>\n",
              "      <td>0.249917</td>\n",
              "      <td>0.548477</td>\n",
              "      <td>0.441119</td>\n",
              "      <td>0.195494</td>\n",
              "      <td>0.201782</td>\n",
              "      <td>0.23741</td>\n",
              "      <td>0.902466</td>\n",
              "      <td>0.441723</td>\n",
              "      <td>1.113896</td>\n",
              "      <td>0.193352</td>\n",
              "      <td>0.176423</td>\n",
              "      <td>0.186228</td>\n",
              "      <td>0.919742</td>\n",
              "      <td>0.511036</td>\n",
              "      <td>0.877909</td>\n",
              "      <td>...</td>\n",
              "      <td>1.457825</td>\n",
              "      <td>1.267266</td>\n",
              "      <td>1.421717</td>\n",
              "      <td>1.779746</td>\n",
              "      <td>1.261893</td>\n",
              "      <td>1.463141</td>\n",
              "      <td>1.348159</td>\n",
              "      <td>1.243516</td>\n",
              "      <td>1.613355</td>\n",
              "      <td>1.451013</td>\n",
              "      <td>1.687339</td>\n",
              "      <td>1.415218</td>\n",
              "      <td>1.370454</td>\n",
              "      <td>1.363432</td>\n",
              "      <td>1.398597</td>\n",
              "      <td>1.397752</td>\n",
              "      <td>1.425808</td>\n",
              "      <td>1.138666</td>\n",
              "      <td>1.396297</td>\n",
              "      <td>1.331246</td>\n",
              "      <td>1.314409</td>\n",
              "      <td>1.198723</td>\n",
              "      <td>1.549028</td>\n",
              "      <td>1.407757</td>\n",
              "      <td>1.4638</td>\n",
              "      <td>1.372438</td>\n",
              "      <td>1.350459</td>\n",
              "      <td>1.420136</td>\n",
              "      <td>1.432815</td>\n",
              "      <td>1.377607</td>\n",
              "      <td>1.168417</td>\n",
              "      <td>1.540661</td>\n",
              "      <td>1.30975</td>\n",
              "      <td>1.38064</td>\n",
              "      <td>1.541076</td>\n",
              "      <td>1.548402</td>\n",
              "      <td>1.439768</td>\n",
              "      <td>1.485217</td>\n",
              "      <td>0.0</td>\n",
              "      <td>5</td>\n",
              "    </tr>\n",
              "    <tr>\n",
              "      <th>1</th>\n",
              "      <td>1.53125</td>\n",
              "      <td>10.73</td>\n",
              "      <td>0.00</td>\n",
              "      <td>2.10</td>\n",
              "      <td>69.81</td>\n",
              "      <td>0.58</td>\n",
              "      <td>13.30</td>\n",
              "      <td>3.15</td>\n",
              "      <td>0.28</td>\n",
              "      <td>0.0</td>\n",
              "      <td>1.665628</td>\n",
              "      <td>0.437026</td>\n",
              "      <td>0.190128</td>\n",
              "      <td>0.247513</td>\n",
              "      <td>0.187662</td>\n",
              "      <td>0.38433</td>\n",
              "      <td>1.365703</td>\n",
              "      <td>0.241763</td>\n",
              "      <td>0.488067</td>\n",
              "      <td>0.191704</td>\n",
              "      <td>0.144556</td>\n",
              "      <td>0.378344</td>\n",
              "      <td>0.231916</td>\n",
              "      <td>0.449126</td>\n",
              "      <td>1.001315</td>\n",
              "      <td>0.249917</td>\n",
              "      <td>0.548477</td>\n",
              "      <td>0.441119</td>\n",
              "      <td>0.195494</td>\n",
              "      <td>0.201782</td>\n",
              "      <td>0.23741</td>\n",
              "      <td>0.902466</td>\n",
              "      <td>0.441723</td>\n",
              "      <td>1.113896</td>\n",
              "      <td>0.193352</td>\n",
              "      <td>0.176423</td>\n",
              "      <td>0.186228</td>\n",
              "      <td>0.919742</td>\n",
              "      <td>0.511036</td>\n",
              "      <td>0.877909</td>\n",
              "      <td>...</td>\n",
              "      <td>1.457825</td>\n",
              "      <td>1.267266</td>\n",
              "      <td>1.421717</td>\n",
              "      <td>1.779746</td>\n",
              "      <td>1.261893</td>\n",
              "      <td>1.463141</td>\n",
              "      <td>1.348159</td>\n",
              "      <td>1.243516</td>\n",
              "      <td>1.613355</td>\n",
              "      <td>1.451013</td>\n",
              "      <td>1.687339</td>\n",
              "      <td>1.415218</td>\n",
              "      <td>1.370454</td>\n",
              "      <td>1.363432</td>\n",
              "      <td>1.398597</td>\n",
              "      <td>1.397752</td>\n",
              "      <td>1.425808</td>\n",
              "      <td>1.138666</td>\n",
              "      <td>1.396297</td>\n",
              "      <td>1.331246</td>\n",
              "      <td>1.314409</td>\n",
              "      <td>1.198723</td>\n",
              "      <td>1.549028</td>\n",
              "      <td>1.407757</td>\n",
              "      <td>1.4638</td>\n",
              "      <td>1.372438</td>\n",
              "      <td>1.350459</td>\n",
              "      <td>1.420136</td>\n",
              "      <td>1.432815</td>\n",
              "      <td>1.377607</td>\n",
              "      <td>1.168417</td>\n",
              "      <td>1.540661</td>\n",
              "      <td>1.30975</td>\n",
              "      <td>1.38064</td>\n",
              "      <td>1.541076</td>\n",
              "      <td>1.548402</td>\n",
              "      <td>1.439768</td>\n",
              "      <td>1.485217</td>\n",
              "      <td>0.0</td>\n",
              "      <td>1</td>\n",
              "    </tr>\n",
              "    <tr>\n",
              "      <th>2</th>\n",
              "      <td>1.52300</td>\n",
              "      <td>13.31</td>\n",
              "      <td>3.58</td>\n",
              "      <td>0.82</td>\n",
              "      <td>71.99</td>\n",
              "      <td>0.12</td>\n",
              "      <td>10.17</td>\n",
              "      <td>0.00</td>\n",
              "      <td>0.03</td>\n",
              "      <td>0.0</td>\n",
              "      <td>1.665628</td>\n",
              "      <td>0.437026</td>\n",
              "      <td>0.190128</td>\n",
              "      <td>0.247513</td>\n",
              "      <td>0.187662</td>\n",
              "      <td>0.38433</td>\n",
              "      <td>1.365703</td>\n",
              "      <td>0.241763</td>\n",
              "      <td>0.488067</td>\n",
              "      <td>0.191704</td>\n",
              "      <td>0.144556</td>\n",
              "      <td>0.378344</td>\n",
              "      <td>0.231916</td>\n",
              "      <td>0.449126</td>\n",
              "      <td>1.001315</td>\n",
              "      <td>0.249917</td>\n",
              "      <td>0.548477</td>\n",
              "      <td>0.441119</td>\n",
              "      <td>0.195494</td>\n",
              "      <td>0.201782</td>\n",
              "      <td>0.23741</td>\n",
              "      <td>0.902466</td>\n",
              "      <td>0.441723</td>\n",
              "      <td>1.113896</td>\n",
              "      <td>0.193352</td>\n",
              "      <td>0.176423</td>\n",
              "      <td>0.186228</td>\n",
              "      <td>0.919742</td>\n",
              "      <td>0.511036</td>\n",
              "      <td>0.877909</td>\n",
              "      <td>...</td>\n",
              "      <td>1.457825</td>\n",
              "      <td>1.267266</td>\n",
              "      <td>1.421717</td>\n",
              "      <td>1.779746</td>\n",
              "      <td>1.261893</td>\n",
              "      <td>1.463141</td>\n",
              "      <td>1.348159</td>\n",
              "      <td>1.243516</td>\n",
              "      <td>1.613355</td>\n",
              "      <td>1.451013</td>\n",
              "      <td>1.687339</td>\n",
              "      <td>1.415218</td>\n",
              "      <td>1.370454</td>\n",
              "      <td>1.363432</td>\n",
              "      <td>1.398597</td>\n",
              "      <td>1.397752</td>\n",
              "      <td>1.425808</td>\n",
              "      <td>1.138666</td>\n",
              "      <td>1.396297</td>\n",
              "      <td>1.331246</td>\n",
              "      <td>1.314409</td>\n",
              "      <td>1.198723</td>\n",
              "      <td>1.549028</td>\n",
              "      <td>1.407757</td>\n",
              "      <td>1.4638</td>\n",
              "      <td>1.372438</td>\n",
              "      <td>1.350459</td>\n",
              "      <td>1.420136</td>\n",
              "      <td>1.432815</td>\n",
              "      <td>1.377607</td>\n",
              "      <td>1.168417</td>\n",
              "      <td>1.540661</td>\n",
              "      <td>1.30975</td>\n",
              "      <td>1.38064</td>\n",
              "      <td>1.541076</td>\n",
              "      <td>1.548402</td>\n",
              "      <td>1.439768</td>\n",
              "      <td>1.485217</td>\n",
              "      <td>0.0</td>\n",
              "      <td>5</td>\n",
              "    </tr>\n",
              "    <tr>\n",
              "      <th>3</th>\n",
              "      <td>1.51768</td>\n",
              "      <td>12.56</td>\n",
              "      <td>3.52</td>\n",
              "      <td>1.43</td>\n",
              "      <td>73.15</td>\n",
              "      <td>0.57</td>\n",
              "      <td>8.54</td>\n",
              "      <td>0.00</td>\n",
              "      <td>0.00</td>\n",
              "      <td>0.0</td>\n",
              "      <td>1.665628</td>\n",
              "      <td>0.437026</td>\n",
              "      <td>0.190128</td>\n",
              "      <td>0.247513</td>\n",
              "      <td>0.187662</td>\n",
              "      <td>0.38433</td>\n",
              "      <td>1.365703</td>\n",
              "      <td>0.241763</td>\n",
              "      <td>0.488067</td>\n",
              "      <td>0.191704</td>\n",
              "      <td>0.144556</td>\n",
              "      <td>0.378344</td>\n",
              "      <td>0.231916</td>\n",
              "      <td>0.449126</td>\n",
              "      <td>1.001315</td>\n",
              "      <td>0.249917</td>\n",
              "      <td>0.548477</td>\n",
              "      <td>0.441119</td>\n",
              "      <td>0.195494</td>\n",
              "      <td>0.201782</td>\n",
              "      <td>0.23741</td>\n",
              "      <td>0.902466</td>\n",
              "      <td>0.441723</td>\n",
              "      <td>1.113896</td>\n",
              "      <td>0.193352</td>\n",
              "      <td>0.176423</td>\n",
              "      <td>0.186228</td>\n",
              "      <td>0.919742</td>\n",
              "      <td>0.511036</td>\n",
              "      <td>0.877909</td>\n",
              "      <td>...</td>\n",
              "      <td>1.457825</td>\n",
              "      <td>1.267266</td>\n",
              "      <td>1.421717</td>\n",
              "      <td>1.779746</td>\n",
              "      <td>1.261893</td>\n",
              "      <td>1.463141</td>\n",
              "      <td>1.348159</td>\n",
              "      <td>1.243516</td>\n",
              "      <td>1.613355</td>\n",
              "      <td>1.451013</td>\n",
              "      <td>1.687339</td>\n",
              "      <td>1.415218</td>\n",
              "      <td>1.370454</td>\n",
              "      <td>1.363432</td>\n",
              "      <td>1.398597</td>\n",
              "      <td>1.397752</td>\n",
              "      <td>1.425808</td>\n",
              "      <td>1.138666</td>\n",
              "      <td>1.396297</td>\n",
              "      <td>1.331246</td>\n",
              "      <td>1.314409</td>\n",
              "      <td>1.198723</td>\n",
              "      <td>1.549028</td>\n",
              "      <td>1.407757</td>\n",
              "      <td>1.4638</td>\n",
              "      <td>1.372438</td>\n",
              "      <td>1.350459</td>\n",
              "      <td>1.420136</td>\n",
              "      <td>1.432815</td>\n",
              "      <td>1.377607</td>\n",
              "      <td>1.168417</td>\n",
              "      <td>1.540661</td>\n",
              "      <td>1.30975</td>\n",
              "      <td>1.38064</td>\n",
              "      <td>1.541076</td>\n",
              "      <td>1.548402</td>\n",
              "      <td>1.439768</td>\n",
              "      <td>1.485217</td>\n",
              "      <td>0.0</td>\n",
              "      <td>5</td>\n",
              "    </tr>\n",
              "    <tr>\n",
              "      <th>4</th>\n",
              "      <td>1.51813</td>\n",
              "      <td>13.43</td>\n",
              "      <td>3.98</td>\n",
              "      <td>1.18</td>\n",
              "      <td>72.49</td>\n",
              "      <td>0.58</td>\n",
              "      <td>8.15</td>\n",
              "      <td>0.00</td>\n",
              "      <td>0.00</td>\n",
              "      <td>0.0</td>\n",
              "      <td>1.665628</td>\n",
              "      <td>0.437026</td>\n",
              "      <td>0.190128</td>\n",
              "      <td>0.247513</td>\n",
              "      <td>0.187662</td>\n",
              "      <td>0.38433</td>\n",
              "      <td>1.365703</td>\n",
              "      <td>0.241763</td>\n",
              "      <td>0.488067</td>\n",
              "      <td>0.191704</td>\n",
              "      <td>0.144556</td>\n",
              "      <td>0.378344</td>\n",
              "      <td>0.231916</td>\n",
              "      <td>0.449126</td>\n",
              "      <td>1.001315</td>\n",
              "      <td>0.249917</td>\n",
              "      <td>0.548477</td>\n",
              "      <td>0.441119</td>\n",
              "      <td>0.195494</td>\n",
              "      <td>0.201782</td>\n",
              "      <td>0.23741</td>\n",
              "      <td>0.902466</td>\n",
              "      <td>0.441723</td>\n",
              "      <td>1.113896</td>\n",
              "      <td>0.193352</td>\n",
              "      <td>0.176423</td>\n",
              "      <td>0.186228</td>\n",
              "      <td>0.919742</td>\n",
              "      <td>0.511036</td>\n",
              "      <td>0.877909</td>\n",
              "      <td>...</td>\n",
              "      <td>1.457825</td>\n",
              "      <td>1.267266</td>\n",
              "      <td>1.421717</td>\n",
              "      <td>1.779746</td>\n",
              "      <td>1.261893</td>\n",
              "      <td>1.463141</td>\n",
              "      <td>1.348159</td>\n",
              "      <td>1.243516</td>\n",
              "      <td>1.613355</td>\n",
              "      <td>1.451013</td>\n",
              "      <td>1.687339</td>\n",
              "      <td>1.415218</td>\n",
              "      <td>1.370454</td>\n",
              "      <td>1.363432</td>\n",
              "      <td>1.398597</td>\n",
              "      <td>1.397752</td>\n",
              "      <td>1.425808</td>\n",
              "      <td>1.138666</td>\n",
              "      <td>1.396297</td>\n",
              "      <td>1.331246</td>\n",
              "      <td>1.314409</td>\n",
              "      <td>1.198723</td>\n",
              "      <td>1.549028</td>\n",
              "      <td>1.407757</td>\n",
              "      <td>1.4638</td>\n",
              "      <td>1.372438</td>\n",
              "      <td>1.350459</td>\n",
              "      <td>1.420136</td>\n",
              "      <td>1.432815</td>\n",
              "      <td>1.377607</td>\n",
              "      <td>1.168417</td>\n",
              "      <td>1.540661</td>\n",
              "      <td>1.30975</td>\n",
              "      <td>1.38064</td>\n",
              "      <td>1.541076</td>\n",
              "      <td>1.548402</td>\n",
              "      <td>1.439768</td>\n",
              "      <td>1.485217</td>\n",
              "      <td>0.0</td>\n",
              "      <td>5</td>\n",
              "    </tr>\n",
              "  </tbody>\n",
              "</table>\n",
              "<p>5 rows × 45806 columns</p>\n",
              "</div>"
            ],
            "text/plain": [
              "         a      b     c     d  ...  (213, 211)  (213, 212)  (213, 213)  cluster_\n",
              "0  1.51735  13.02  3.54  1.69  ...    1.439768    1.485217         0.0         5\n",
              "1  1.53125  10.73  0.00  2.10  ...    1.439768    1.485217         0.0         1\n",
              "2  1.52300  13.31  3.58  0.82  ...    1.439768    1.485217         0.0         5\n",
              "3  1.51768  12.56  3.52  1.43  ...    1.439768    1.485217         0.0         5\n",
              "4  1.51813  13.43  3.98  1.18  ...    1.439768    1.485217         0.0         5\n",
              "\n",
              "[5 rows x 45806 columns]"
            ]
          },
          "metadata": {
            "tags": []
          },
          "execution_count": 57
        }
      ]
    },
    {
      "cell_type": "code",
      "metadata": {
        "colab": {
          "base_uri": "https://localhost:8080/",
          "height": 988
        },
        "id": "D56xlcHE1sdv",
        "outputId": "04bfface-31c1-41fe-9421-a759f1cf3b79"
      },
      "source": [
        "import matplotlib.cm as cm\n",
        "n_clusters = max(agglom.labels_)+1\n",
        "colors = cm.rainbow(np.linspace(0, 1, n_clusters))\n",
        "cluster_labels = list(range(0, n_clusters))\n",
        "\n",
        "# Create a figure of size 6 inches by 4 inches.\n",
        "plt.figure(figsize=(16,14))\n",
        "\n",
        "for color, label in zip(colors, cluster_labels):\n",
        "    subset = additives_df[additives_df.cluster_ == label]\n",
        "    for i in subset.index:\n",
        "            plt.text(subset.a[i], subset.b[i],str(subset['c'][i]), rotation=25) \n",
        "    plt.scatter(subset.a, subset.b, s= subset.d*10, c=color, label='cluster'+str(label),alpha=0.5)\n",
        "#    plt.scatter(subset.horsepow, subset.mpg)\n",
        "plt.legend()\n",
        "plt.title('Clusters')\n",
        "plt.xlabel('a')\n",
        "plt.ylabel('b')"
      ],
      "execution_count": 58,
      "outputs": [
        {
          "output_type": "stream",
          "text": [
            "*c* argument looks like a single numeric RGB or RGBA sequence, which should be avoided as value-mapping will have precedence in case its length matches with *x* & *y*.  Please use the *color* keyword-argument or provide a 2-D array with a single row if you intend to specify the same RGB or RGBA value for all points.\n",
            "*c* argument looks like a single numeric RGB or RGBA sequence, which should be avoided as value-mapping will have precedence in case its length matches with *x* & *y*.  Please use the *color* keyword-argument or provide a 2-D array with a single row if you intend to specify the same RGB or RGBA value for all points.\n",
            "*c* argument looks like a single numeric RGB or RGBA sequence, which should be avoided as value-mapping will have precedence in case its length matches with *x* & *y*.  Please use the *color* keyword-argument or provide a 2-D array with a single row if you intend to specify the same RGB or RGBA value for all points.\n",
            "*c* argument looks like a single numeric RGB or RGBA sequence, which should be avoided as value-mapping will have precedence in case its length matches with *x* & *y*.  Please use the *color* keyword-argument or provide a 2-D array with a single row if you intend to specify the same RGB or RGBA value for all points.\n",
            "*c* argument looks like a single numeric RGB or RGBA sequence, which should be avoided as value-mapping will have precedence in case its length matches with *x* & *y*.  Please use the *color* keyword-argument or provide a 2-D array with a single row if you intend to specify the same RGB or RGBA value for all points.\n",
            "*c* argument looks like a single numeric RGB or RGBA sequence, which should be avoided as value-mapping will have precedence in case its length matches with *x* & *y*.  Please use the *color* keyword-argument or provide a 2-D array with a single row if you intend to specify the same RGB or RGBA value for all points.\n"
          ],
          "name": "stderr"
        },
        {
          "output_type": "execute_result",
          "data": {
            "text/plain": [
              "Text(0, 0.5, 'b')"
            ]
          },
          "metadata": {
            "tags": []
          },
          "execution_count": 58
        },
        {
          "output_type": "display_data",
          "data": {
            "image/png": "[encoded data removed]",
            "text/plain": [
              "<Figure size 1152x1008 with 1 Axes>"
            ]
          },
          "metadata": {
            "tags": [],
            "needs_background": "light"
          }
        }
      ]
    }
  ]
}